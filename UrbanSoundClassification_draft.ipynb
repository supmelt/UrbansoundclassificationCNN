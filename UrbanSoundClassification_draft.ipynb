{
 "cells": [
  {
   "cell_type": "code",
   "execution_count": 1,
   "id": "a04683ea",
   "metadata": {},
   "outputs": [],
   "source": [
    "import pandas as pd\n",
    "import numpy as np\n",
    "import matplotlib.pyplot as plt\n",
    "%matplotlib inline\n",
    "import seaborn as sns\n",
    "import os\n",
    "import sys\n",
    "from tqdm import tqdm\n",
    "import IPython\n",
    "import math\n",
    "import pickle\n",
    "import random\n",
    "from datetime import datetime"
   ]
  },
  {
   "cell_type": "code",
   "execution_count": 2,
   "id": "efdb1589",
   "metadata": {},
   "outputs": [
    {
     "name": "stdout",
     "output_type": "stream",
     "text": [
      "Collecting keras.utils\n",
      "  Downloading keras-utils-1.0.13.tar.gz (2.4 kB)\n",
      "  Preparing metadata (setup.py): started\n",
      "  Preparing metadata (setup.py): finished with status 'done'\n",
      "Requirement already satisfied: Keras>=2.1.5 in c:\\users\\meltem\\anaconda3\\lib\\site-packages (from keras.utils) (2.8.0)\n",
      "Building wheels for collected packages: keras.utils\n",
      "  Building wheel for keras.utils (setup.py): started\n",
      "  Building wheel for keras.utils (setup.py): finished with status 'done'\n",
      "  Created wheel for keras.utils: filename=keras_utils-1.0.13-py3-none-any.whl size=2656 sha256=f6f663332bb0e2e74ca09b30e02f8c89dc5b69fe13b73903d5eead0c54bb409f\n",
      "  Stored in directory: c:\\users\\meltem\\appdata\\local\\pip\\cache\\wheels\\fd\\b9\\6e\\25d4c3a3c0319873aeeab6592c5b4bb9e2af0fec21a0b5188c\n",
      "Successfully built keras.utils\n",
      "Installing collected packages: keras.utils\n",
      "Successfully installed keras.utils-1.0.13\n",
      "Note: you may need to restart the kernel to use updated packages.\n"
     ]
    }
   ],
   "source": [
    "pip install keras.utils"
   ]
  },
  {
   "cell_type": "code",
   "execution_count": 3,
   "id": "12725ef8",
   "metadata": {},
   "outputs": [],
   "source": [
    "from keras import backend as keras_backend\n",
    "from keras.models import Sequential, load_model\n",
    "from keras.layers import Dense, SpatialDropout2D, Activation, Conv2D, MaxPooling2D, BatchNormalization, GlobalAveragePooling2D, LeakyReLU\n",
    "from tensorflow.keras.optimizers import Adam\n",
    "\n",
    "from tensorflow.keras.optimizers import Adam\n",
    "\n",
    "from tensorflow.keras.utils import to_categorical\n",
    "from keras.callbacks import ModelCheckpoint \n",
    "from keras.regularizers import l2\n",
    "\n",
    "from sklearn.preprocessing import LabelEncoder\n",
    "from sklearn.metrics import classification_report, confusion_matrix"
   ]
  },
  {
   "cell_type": "code",
   "execution_count": 4,
   "id": "79f1f260",
   "metadata": {},
   "outputs": [],
   "source": [
    "import os\n",
    "import librosa\n",
    "import librosa.display\n",
    "import glob \n",
    "import skimage"
   ]
  },
  {
   "cell_type": "code",
   "execution_count": 5,
   "id": "fd84d633",
   "metadata": {},
   "outputs": [
    {
     "data": {
      "text/plain": [
       "(8732, 8)"
      ]
     },
     "execution_count": 5,
     "metadata": {},
     "output_type": "execute_result"
    }
   ],
   "source": [
    "df = pd.read_csv(\"C:/Users/Meltem/Desktop/Urban-Sound-Classification-using-CNN-main/Urban-Sound-Classification-using-CNN-main/metadata/UrbanSound8K.csv\")\n",
    "df.shape"
   ]
  },
  {
   "cell_type": "code",
   "execution_count": 6,
   "id": "cb629ae3",
   "metadata": {},
   "outputs": [
    {
     "data": {
      "text/html": [
       "<div>\n",
       "<style scoped>\n",
       "    .dataframe tbody tr th:only-of-type {\n",
       "        vertical-align: middle;\n",
       "    }\n",
       "\n",
       "    .dataframe tbody tr th {\n",
       "        vertical-align: top;\n",
       "    }\n",
       "\n",
       "    .dataframe thead th {\n",
       "        text-align: right;\n",
       "    }\n",
       "</style>\n",
       "<table border=\"1\" class=\"dataframe\">\n",
       "  <thead>\n",
       "    <tr style=\"text-align: right;\">\n",
       "      <th></th>\n",
       "      <th>slice_file_name</th>\n",
       "      <th>fsID</th>\n",
       "      <th>start</th>\n",
       "      <th>end</th>\n",
       "      <th>salience</th>\n",
       "      <th>fold</th>\n",
       "      <th>classID</th>\n",
       "      <th>class</th>\n",
       "    </tr>\n",
       "  </thead>\n",
       "  <tbody>\n",
       "    <tr>\n",
       "      <th>0</th>\n",
       "      <td>100032-3-0-0.wav</td>\n",
       "      <td>100032</td>\n",
       "      <td>0.0</td>\n",
       "      <td>0.317551</td>\n",
       "      <td>1</td>\n",
       "      <td>5</td>\n",
       "      <td>3</td>\n",
       "      <td>dog_bark</td>\n",
       "    </tr>\n",
       "    <tr>\n",
       "      <th>1</th>\n",
       "      <td>100263-2-0-117.wav</td>\n",
       "      <td>100263</td>\n",
       "      <td>58.5</td>\n",
       "      <td>62.500000</td>\n",
       "      <td>1</td>\n",
       "      <td>5</td>\n",
       "      <td>2</td>\n",
       "      <td>children_playing</td>\n",
       "    </tr>\n",
       "    <tr>\n",
       "      <th>2</th>\n",
       "      <td>100263-2-0-121.wav</td>\n",
       "      <td>100263</td>\n",
       "      <td>60.5</td>\n",
       "      <td>64.500000</td>\n",
       "      <td>1</td>\n",
       "      <td>5</td>\n",
       "      <td>2</td>\n",
       "      <td>children_playing</td>\n",
       "    </tr>\n",
       "    <tr>\n",
       "      <th>3</th>\n",
       "      <td>100263-2-0-126.wav</td>\n",
       "      <td>100263</td>\n",
       "      <td>63.0</td>\n",
       "      <td>67.000000</td>\n",
       "      <td>1</td>\n",
       "      <td>5</td>\n",
       "      <td>2</td>\n",
       "      <td>children_playing</td>\n",
       "    </tr>\n",
       "    <tr>\n",
       "      <th>4</th>\n",
       "      <td>100263-2-0-137.wav</td>\n",
       "      <td>100263</td>\n",
       "      <td>68.5</td>\n",
       "      <td>72.500000</td>\n",
       "      <td>1</td>\n",
       "      <td>5</td>\n",
       "      <td>2</td>\n",
       "      <td>children_playing</td>\n",
       "    </tr>\n",
       "  </tbody>\n",
       "</table>\n",
       "</div>"
      ],
      "text/plain": [
       "      slice_file_name    fsID  start        end  salience  fold  classID  \\\n",
       "0    100032-3-0-0.wav  100032    0.0   0.317551         1     5        3   \n",
       "1  100263-2-0-117.wav  100263   58.5  62.500000         1     5        2   \n",
       "2  100263-2-0-121.wav  100263   60.5  64.500000         1     5        2   \n",
       "3  100263-2-0-126.wav  100263   63.0  67.000000         1     5        2   \n",
       "4  100263-2-0-137.wav  100263   68.5  72.500000         1     5        2   \n",
       "\n",
       "              class  \n",
       "0          dog_bark  \n",
       "1  children_playing  \n",
       "2  children_playing  \n",
       "3  children_playing  \n",
       "4  children_playing  "
      ]
     },
     "execution_count": 6,
     "metadata": {},
     "output_type": "execute_result"
    }
   ],
   "source": [
    "df.head()"
   ]
  },
  {
   "cell_type": "code",
   "execution_count": 8,
   "id": "b4524b56",
   "metadata": {},
   "outputs": [
    {
     "data": {
      "text/plain": [
       "4     990\n",
       "5     936\n",
       "3     925\n",
       "2     888\n",
       "1     873\n",
       "7     838\n",
       "10    837\n",
       "6     823\n",
       "9     816\n",
       "8     806\n",
       "Name: fold, dtype: int64"
      ]
     },
     "execution_count": 8,
     "metadata": {},
     "output_type": "execute_result"
    }
   ],
   "source": [
    "df[\"fold\"].value_counts()"
   ]
  },
  {
   "cell_type": "code",
   "execution_count": 9,
   "id": "89785372",
   "metadata": {},
   "outputs": [
    {
     "data": {
      "text/html": [
       "<div>\n",
       "<style scoped>\n",
       "    .dataframe tbody tr th:only-of-type {\n",
       "        vertical-align: middle;\n",
       "    }\n",
       "\n",
       "    .dataframe tbody tr th {\n",
       "        vertical-align: top;\n",
       "    }\n",
       "\n",
       "    .dataframe thead th {\n",
       "        text-align: right;\n",
       "    }\n",
       "</style>\n",
       "<table border=\"1\" class=\"dataframe\">\n",
       "  <thead>\n",
       "    <tr style=\"text-align: right;\">\n",
       "      <th></th>\n",
       "      <th>index</th>\n",
       "      <th>jackhammer</th>\n",
       "      <th>dog_bark</th>\n",
       "      <th>children_playing</th>\n",
       "      <th>street_music</th>\n",
       "      <th>air_conditioner</th>\n",
       "      <th>drilling</th>\n",
       "      <th>engine_idling</th>\n",
       "      <th>siren</th>\n",
       "      <th>car_horn</th>\n",
       "      <th>gun_shot</th>\n",
       "    </tr>\n",
       "  </thead>\n",
       "  <tbody>\n",
       "    <tr>\n",
       "      <th>0</th>\n",
       "      <td>fold1</td>\n",
       "      <td>120</td>\n",
       "      <td>100</td>\n",
       "      <td>100</td>\n",
       "      <td>100</td>\n",
       "      <td>100</td>\n",
       "      <td>100</td>\n",
       "      <td>96</td>\n",
       "      <td>86</td>\n",
       "      <td>36</td>\n",
       "      <td>35</td>\n",
       "    </tr>\n",
       "    <tr>\n",
       "      <th>1</th>\n",
       "      <td>fold2</td>\n",
       "      <td>120</td>\n",
       "      <td>100</td>\n",
       "      <td>100</td>\n",
       "      <td>100</td>\n",
       "      <td>100</td>\n",
       "      <td>100</td>\n",
       "      <td>100</td>\n",
       "      <td>91</td>\n",
       "      <td>42</td>\n",
       "      <td>35</td>\n",
       "    </tr>\n",
       "    <tr>\n",
       "      <th>2</th>\n",
       "      <td>fold3</td>\n",
       "      <td>120</td>\n",
       "      <td>100</td>\n",
       "      <td>100</td>\n",
       "      <td>100</td>\n",
       "      <td>100</td>\n",
       "      <td>100</td>\n",
       "      <td>107</td>\n",
       "      <td>119</td>\n",
       "      <td>43</td>\n",
       "      <td>36</td>\n",
       "    </tr>\n",
       "    <tr>\n",
       "      <th>3</th>\n",
       "      <td>fold4</td>\n",
       "      <td>120</td>\n",
       "      <td>100</td>\n",
       "      <td>100</td>\n",
       "      <td>100</td>\n",
       "      <td>100</td>\n",
       "      <td>100</td>\n",
       "      <td>107</td>\n",
       "      <td>166</td>\n",
       "      <td>59</td>\n",
       "      <td>38</td>\n",
       "    </tr>\n",
       "    <tr>\n",
       "      <th>4</th>\n",
       "      <td>fold5</td>\n",
       "      <td>120</td>\n",
       "      <td>100</td>\n",
       "      <td>100</td>\n",
       "      <td>100</td>\n",
       "      <td>100</td>\n",
       "      <td>100</td>\n",
       "      <td>107</td>\n",
       "      <td>71</td>\n",
       "      <td>98</td>\n",
       "      <td>40</td>\n",
       "    </tr>\n",
       "    <tr>\n",
       "      <th>5</th>\n",
       "      <td>fold6</td>\n",
       "      <td>68</td>\n",
       "      <td>100</td>\n",
       "      <td>100</td>\n",
       "      <td>100</td>\n",
       "      <td>100</td>\n",
       "      <td>100</td>\n",
       "      <td>107</td>\n",
       "      <td>74</td>\n",
       "      <td>28</td>\n",
       "      <td>46</td>\n",
       "    </tr>\n",
       "    <tr>\n",
       "      <th>6</th>\n",
       "      <td>fold7</td>\n",
       "      <td>76</td>\n",
       "      <td>100</td>\n",
       "      <td>100</td>\n",
       "      <td>100</td>\n",
       "      <td>100</td>\n",
       "      <td>100</td>\n",
       "      <td>106</td>\n",
       "      <td>77</td>\n",
       "      <td>28</td>\n",
       "      <td>51</td>\n",
       "    </tr>\n",
       "    <tr>\n",
       "      <th>7</th>\n",
       "      <td>fold8</td>\n",
       "      <td>78</td>\n",
       "      <td>100</td>\n",
       "      <td>100</td>\n",
       "      <td>100</td>\n",
       "      <td>100</td>\n",
       "      <td>100</td>\n",
       "      <td>88</td>\n",
       "      <td>80</td>\n",
       "      <td>30</td>\n",
       "      <td>30</td>\n",
       "    </tr>\n",
       "    <tr>\n",
       "      <th>8</th>\n",
       "      <td>fold9</td>\n",
       "      <td>82</td>\n",
       "      <td>100</td>\n",
       "      <td>100</td>\n",
       "      <td>100</td>\n",
       "      <td>100</td>\n",
       "      <td>100</td>\n",
       "      <td>89</td>\n",
       "      <td>82</td>\n",
       "      <td>32</td>\n",
       "      <td>31</td>\n",
       "    </tr>\n",
       "    <tr>\n",
       "      <th>9</th>\n",
       "      <td>fold10</td>\n",
       "      <td>96</td>\n",
       "      <td>100</td>\n",
       "      <td>100</td>\n",
       "      <td>100</td>\n",
       "      <td>100</td>\n",
       "      <td>100</td>\n",
       "      <td>93</td>\n",
       "      <td>83</td>\n",
       "      <td>33</td>\n",
       "      <td>32</td>\n",
       "    </tr>\n",
       "  </tbody>\n",
       "</table>\n",
       "</div>"
      ],
      "text/plain": [
       "    index  jackhammer  dog_bark  children_playing  street_music  \\\n",
       "0   fold1         120       100               100           100   \n",
       "1   fold2         120       100               100           100   \n",
       "2   fold3         120       100               100           100   \n",
       "3   fold4         120       100               100           100   \n",
       "4   fold5         120       100               100           100   \n",
       "5   fold6          68       100               100           100   \n",
       "6   fold7          76       100               100           100   \n",
       "7   fold8          78       100               100           100   \n",
       "8   fold9          82       100               100           100   \n",
       "9  fold10          96       100               100           100   \n",
       "\n",
       "   air_conditioner  drilling  engine_idling  siren  car_horn  gun_shot  \n",
       "0              100       100             96     86        36        35  \n",
       "1              100       100            100     91        42        35  \n",
       "2              100       100            107    119        43        36  \n",
       "3              100       100            107    166        59        38  \n",
       "4              100       100            107     71        98        40  \n",
       "5              100       100            107     74        28        46  \n",
       "6              100       100            106     77        28        51  \n",
       "7              100       100             88     80        30        30  \n",
       "8              100       100             89     82        32        31  \n",
       "9              100       100             93     83        33        32  "
      ]
     },
     "execution_count": 9,
     "metadata": {},
     "output_type": "execute_result"
    }
   ],
   "source": [
    "appended = []\n",
    "for i in range(1,11):\n",
    "    appended.append(df[df.fold == i]['class'].value_counts())\n",
    "    \n",
    "class_distribution = pd.DataFrame(appended)\n",
    "class_distribution = class_distribution.reset_index()\n",
    "class_distribution['index'] = [\"fold\"+str(x) for x in range(1,11)]\n",
    "class_distribution"
   ]
  },
  {
   "cell_type": "code",
   "execution_count": 10,
   "id": "72e132a2",
   "metadata": {},
   "outputs": [
    {
     "data": {
      "text/plain": [
       "dog_bark            0.114521\n",
       "children_playing    0.114521\n",
       "air_conditioner     0.114521\n",
       "street_music        0.114521\n",
       "engine_idling       0.114521\n",
       "jackhammer          0.114521\n",
       "drilling            0.114521\n",
       "siren               0.106390\n",
       "car_horn            0.049130\n",
       "gun_shot            0.042831\n",
       "Name: class, dtype: float64"
      ]
     },
     "execution_count": 10,
     "metadata": {},
     "output_type": "execute_result"
    }
   ],
   "source": [
    "df['class'].value_counts(normalize=True)"
   ]
  },
  {
   "cell_type": "code",
   "execution_count": 13,
   "id": "b23c3e9d",
   "metadata": {},
   "outputs": [
    {
     "name": "stderr",
     "output_type": "stream",
     "text": [
      "C:\\Users\\Meltem\\AppData\\Local\\Temp/ipykernel_45872/3902983155.py:7: FutureWarning: Pass y=[-0.00341243 -0.00506065 -0.00463294 ... -0.00247565 -0.00155365\n",
      " -0.00035246], sr=22050 as keyword args. From version 0.10 passing these as positional arguments will result in an error\n",
      "  mfccs = librosa.feature.mfcc(y, sr, n_mfcc=40)\n"
     ]
    },
    {
     "data": {
      "image/png": "[encoded data removed]",
      "text/plain": [
       "<Figure size 720x288 with 2 Axes>"
      ]
     },
     "metadata": {
      "needs_background": "light"
     },
     "output_type": "display_data"
    }
   ],
   "source": [
    "import os\n",
    "import IPython.display as ipd\n",
    "ipd.Audio('C:/Users/Meltem/Desktop/Urban-Sound-Classification-using-CNN-main/Urban-Sound-Classification-using-CNN-main/audio/fold9/101729-0-0-18.wav')\n",
    "\n",
    "#MFCC \n",
    "y,sr=librosa.load(\"C:/Users/Meltem/Desktop/Urban-Sound-Classification-using-CNN-main/Urban-Sound-Classification-using-CNN-main/audio/fold5/100032-3-0-0.wav\")\n",
    "mfccs = librosa.feature.mfcc(y, sr, n_mfcc=40)\n",
    "\n",
    "import matplotlib.pyplot as plt\n",
    "plt.figure(figsize=(10,4))\n",
    "librosa.display.specshow(mfccs, x_axis='time')\n",
    "plt.colorbar()\n",
    "plt.title('MFCC')\n",
    "plt.tight_layout()"
   ]
  },
  {
   "cell_type": "code",
   "execution_count": 14,
   "id": "d12cce1c",
   "metadata": {},
   "outputs": [
    {
     "data": {
      "image/png": "[encoded data removed]",
      "text/plain": [
       "<Figure size 720x288 with 2 Axes>"
      ]
     },
     "metadata": {
      "needs_background": "light"
     },
     "output_type": "display_data"
    }
   ],
   "source": [
    "#Melspectrogram\n",
    "melspectrogram =librosa.feature.melspectrogram(y=y, sr=sr, n_mels=40,fmax=8000)\n",
    "plt.figure(figsize=(10,4))\n",
    "librosa.display.specshow(librosa.power_to_db(melspectrogram,ref=np.max),y_axis='mel', fmax=8000,x_axis='time')\n",
    "plt.colorbar(format='%+2.0f dB')\n",
    "plt.title('Mel spectrogram')\n",
    "plt.tight_layout()"
   ]
  },
  {
   "cell_type": "code",
   "execution_count": 15,
   "id": "b18b4170",
   "metadata": {},
   "outputs": [
    {
     "data": {
      "image/png": "[encoded data removed]",
      "text/plain": [
       "<Figure size 720x288 with 2 Axes>"
      ]
     },
     "metadata": {
      "needs_background": "light"
     },
     "output_type": "display_data"
    }
   ],
   "source": [
    "# Chroma_stft\n",
    "chroma_stft=librosa.feature.chroma_stft(y=y, sr=sr,n_chroma=40)\n",
    "plt.figure(figsize=(10,4))\n",
    "librosa.display.specshow(chroma_stft, y_axis='chroma', x_axis='time')\n",
    "plt.colorbar()\n",
    "plt.title('Chromagram-stft')\n",
    "plt.tight_layout()"
   ]
  },
  {
   "cell_type": "code",
   "execution_count": 16,
   "id": "6d28e6e8",
   "metadata": {},
   "outputs": [
    {
     "name": "stderr",
     "output_type": "stream",
     "text": [
      "C:\\Users\\Meltem\\AppData\\Local\\Temp/ipykernel_45872/3240033186.py:2: FutureWarning: Pass y=[-0.00341243 -0.00506065 -0.00463294 ... -0.00247565 -0.00155365\n",
      " -0.00035246], sr=22050 as keyword args. From version 0.10 passing these as positional arguments will result in an error\n",
      "  mfccs = np.mean(librosa.feature.mfcc(y, sr, n_mfcc=40).T,axis=0)\n"
     ]
    },
    {
     "data": {
      "text/plain": [
       "((40,), (40,), (40,))"
      ]
     },
     "execution_count": 16,
     "metadata": {},
     "output_type": "execute_result"
    }
   ],
   "source": [
    "y,sr=librosa.load(\"C:/Users/Meltem/Desktop/Urban-Sound-Classification-using-CNN-main/Urban-Sound-Classification-using-CNN-main/audio/fold5/100032-3-0-0.wav\")\n",
    "mfccs = np.mean(librosa.feature.mfcc(y, sr, n_mfcc=40).T,axis=0)\n",
    "melspectrogram = np.mean(librosa.feature.melspectrogram(y=y, sr=sr, n_mels=40,fmax=8000).T,axis=0)\n",
    "chroma_stft=np.mean(librosa.feature.chroma_stft(y=y, sr=sr,n_chroma=40).T,axis=0)\n",
    "# tonnetz = np.mean(librosa.feature.tonnetz(y=librosa.effects.harmonic(X),sr=sr).T,axis=0)\n",
    "# melspectrogram.shape,chroma_stft.shape,contrast.shape,tonnetz.shape,mfccs.shape\n",
    "mfccs.shape,melspectrogram.shape,chroma_stft.shape"
   ]
  },
  {
   "cell_type": "code",
   "execution_count": 17,
   "id": "4def529b",
   "metadata": {},
   "outputs": [
    {
     "data": {
      "text/plain": [
       "(40, 3)"
      ]
     },
     "execution_count": 17,
     "metadata": {},
     "output_type": "execute_result"
    }
   ],
   "source": [
    "features=np.reshape(np.vstack((mfccs,melspectrogram,chroma_stft)),(40,3))\n",
    "features.shape"
   ]
  },
  {
   "cell_type": "code",
   "execution_count": 19,
   "id": "3fc00fca",
   "metadata": {},
   "outputs": [
    {
     "name": "stderr",
     "output_type": "stream",
     "text": [
      " 41%|███████████████████████████████▊                                              | 3555/8732 [04:38<07:12, 11.98it/s]C:\\Users\\Meltem\\anaconda3\\lib\\site-packages\\librosa\\util\\decorators.py:88: UserWarning: n_fft=2048 is too small for input signal of length=1323\n",
      "  return f(*args, **kwargs)\n",
      " 95%|██████████████████████████████████████████████████████████████████████████▎   | 8324/8732 [10:30<00:21, 18.88it/s]C:\\Users\\Meltem\\anaconda3\\lib\\site-packages\\librosa\\util\\decorators.py:88: UserWarning: n_fft=2048 is too small for input signal of length=1103\n",
      "  return f(*args, **kwargs)\n",
      "C:\\Users\\Meltem\\anaconda3\\lib\\site-packages\\librosa\\util\\decorators.py:88: UserWarning: n_fft=2048 is too small for input signal of length=1523\n",
      "  return f(*args, **kwargs)\n",
      "100%|██████████████████████████████████████████████████████████████████████████████| 8732/8732 [10:58<00:00, 13.27it/s]\n"
     ]
    }
   ],
   "source": [
    "x_train=[]\n",
    "x_test=[]\n",
    "y_train=[]\n",
    "y_test=[]\n",
    "\n",
    "path=\"C:/Users/Meltem/Desktop/Urban-Sound-Classification-using-CNN-main/Urban-Sound-Classification-using-CNN-main/audio/fold\"\n",
    "for i in tqdm(range(len(df))):\n",
    "    fold_no=str(df.iloc[i][\"fold\"])\n",
    "    file=df.iloc[i][\"slice_file_name\"]\n",
    "    label=df.iloc[i][\"classID\"]\n",
    "    filename=path+fold_no+\"/\"+file\n",
    "    y,sr=librosa.load(filename)\n",
    "    melspectrogram = np.mean(librosa.feature.melspectrogram(y=y, sr=sr, n_mels=40,fmax=8000).T,axis=0)\n",
    "    features=np.reshape(np.vstack((mfccs,melspectrogram,chroma_stft)),(40,3))\n",
    "    if(fold_no!='10'):\n",
    "      x_train.append(features)\n",
    "      y_train.append(label)\n",
    "    else:\n",
    "      x_test.append(features)\n",
    "      y_test.append(label)"
   ]
  },
  {
   "cell_type": "code",
   "execution_count": 20,
   "id": "e972b350",
   "metadata": {},
   "outputs": [
    {
     "data": {
      "text/plain": [
       "8732"
      ]
     },
     "execution_count": 20,
     "metadata": {},
     "output_type": "execute_result"
    }
   ],
   "source": [
    "len(x_train)+len(x_test)"
   ]
  },
  {
   "cell_type": "code",
   "execution_count": 22,
   "id": "624b8f82",
   "metadata": {},
   "outputs": [
    {
     "data": {
      "text/plain": [
       "((8732, 40, 3), (8732,))"
      ]
     },
     "execution_count": 22,
     "metadata": {},
     "output_type": "execute_result"
    }
   ],
   "source": [
    "x=x_train+x_test\n",
    "y=y_train+y_test\n",
    "\n",
    "x=np.array(x)\n",
    "y=np.array(y)\n",
    "x.shape,y.shape"
   ]
  },
  {
   "cell_type": "code",
   "execution_count": 23,
   "id": "dcaffed8",
   "metadata": {},
   "outputs": [
    {
     "data": {
      "text/plain": [
       "(8732, 120)"
      ]
     },
     "execution_count": 23,
     "metadata": {},
     "output_type": "execute_result"
    }
   ],
   "source": [
    "x_2d=np.reshape(x,(x.shape[0],x.shape[1]*x.shape[2]))\n",
    "x_2d.shape\n",
    "\n",
    "np.savetxt(\"x.csv\", x_2d, delimiter=\",\")\n",
    "np.savetxt(\"y.csv\",y,delimiter=\",\")\n",
    "x_2d.shape"
   ]
  },
  {
   "cell_type": "code",
   "execution_count": 24,
   "id": "de8e6c73",
   "metadata": {},
   "outputs": [
    {
     "name": "stdout",
     "output_type": "stream",
     "text": [
      "Test split: 1746 \t\t Train split: 6986\n",
      "X test shape: (1746, 40, 3) \t X train shape: (6986, 40, 3)\n",
      "y test shape: (1746,) \t\t y train shape: (6986,)\n"
     ]
    }
   ],
   "source": [
    "ndexes = []\n",
    "total = len(df)\n",
    "indexes = list(range(0, total))\n",
    "\n",
    "\n",
    "random.shuffle(indexes)\n",
    "\n",
    "test_split_pct = 20\n",
    "split_offset = math.floor(test_split_pct * total / 100)\n",
    "\n",
    "test_split_idx = indexes[0:split_offset]\n",
    "train_split_idx = indexes[split_offset:total]\n",
    "\n",
    "\n",
    "X_test = np.take(x, test_split_idx, axis=0)\n",
    "y_test = np.take(y, test_split_idx, axis=0)\n",
    "X_train = np.take(x, train_split_idx, axis=0)\n",
    "y_train = np.take(y, train_split_idx, axis=0)\n",
    "\n",
    "test = df.iloc[test_split_idx]\n",
    "train = df.iloc[train_split_idx]\n",
    "\n",
    "print(\"Test split: {} \\t\\t Train split: {}\".format(len(test), len(train)))\n",
    "print(\"X test shape: {} \\t X train shape: {}\".format(X_test.shape, X_train.shape))\n",
    "print(\"y test shape: {} \\t\\t y train shape: {}\".format(y_test.shape, y_train.shape))"
   ]
  },
  {
   "cell_type": "code",
   "execution_count": 25,
   "id": "5c8db94a",
   "metadata": {},
   "outputs": [
    {
     "data": {
      "text/plain": [
       "((6986, 10), (1746, 10))"
      ]
     },
     "execution_count": 25,
     "metadata": {},
     "output_type": "execute_result"
    }
   ],
   "source": [
    "from keras.utils.np_utils import to_categorical\n",
    "y_train = to_categorical(y_train, num_classes=10)\n",
    "y_test = to_categorical(y_test, num_classes=10)\n",
    "y_train.shape,y_test.shape"
   ]
  },
  {
   "cell_type": "code",
   "execution_count": 26,
   "id": "8f0cb8a1",
   "metadata": {},
   "outputs": [
    {
     "data": {
      "text/plain": [
       "((6986, 40, 3), (1746, 40, 3))"
      ]
     },
     "execution_count": 26,
     "metadata": {},
     "output_type": "execute_result"
    }
   ],
   "source": [
    "X_train=np.reshape(X_train,(X_train.shape[0], 40,3))\n",
    "X_test=np.reshape(X_test,(X_test.shape[0], 40,3))\n",
    "X_train.shape,X_test.shape"
   ]
  },
  {
   "cell_type": "code",
   "execution_count": 27,
   "id": "d61ad062",
   "metadata": {},
   "outputs": [
    {
     "data": {
      "text/plain": [
       "((6986, 40, 3, 1), (1746, 40, 3, 1))"
      ]
     },
     "execution_count": 27,
     "metadata": {},
     "output_type": "execute_result"
    }
   ],
   "source": [
    "X_train=np.reshape(X_train,(X_train.shape[0], 40,3,1))\n",
    "X_test=np.reshape(X_test,(X_test.shape[0], 40,3,1))\n",
    "X_train.shape,X_test.shape"
   ]
  },
  {
   "cell_type": "code",
   "execution_count": 28,
   "id": "0609fe18",
   "metadata": {},
   "outputs": [
    {
     "name": "stdout",
     "output_type": "stream",
     "text": [
      "Epoch 1/100\n",
      "195/195 [==============================] - 3s 11ms/step - loss: 2.2807 - accuracy: 0.1816 - val_loss: 2.1041 - val_accuracy: 0.1896\n",
      "Epoch 2/100\n",
      "195/195 [==============================] - 3s 13ms/step - loss: 1.9974 - accuracy: 0.2957 - val_loss: 1.7655 - val_accuracy: 0.3763\n",
      "Epoch 3/100\n",
      "195/195 [==============================] - 3s 14ms/step - loss: 1.7801 - accuracy: 0.3709 - val_loss: 1.7417 - val_accuracy: 0.3981\n",
      "Epoch 4/100\n",
      "195/195 [==============================] - 2s 10ms/step - loss: 1.7125 - accuracy: 0.3934 - val_loss: 1.5667 - val_accuracy: 0.4542\n",
      "Epoch 5/100\n",
      "195/195 [==============================] - 2s 10ms/step - loss: 1.6315 - accuracy: 0.4290 - val_loss: 1.5321 - val_accuracy: 0.4605\n",
      "Epoch 6/100\n",
      "195/195 [==============================] - 3s 13ms/step - loss: 1.5389 - accuracy: 0.4539 - val_loss: 1.5452 - val_accuracy: 0.4530\n",
      "Epoch 7/100\n",
      "195/195 [==============================] - 2s 11ms/step - loss: 1.5004 - accuracy: 0.4701 - val_loss: 1.4017 - val_accuracy: 0.5155\n",
      "Epoch 8/100\n",
      "195/195 [==============================] - 2s 12ms/step - loss: 1.4468 - accuracy: 0.4855 - val_loss: 1.3750 - val_accuracy: 0.5263\n",
      "Epoch 9/100\n",
      "195/195 [==============================] - 2s 10ms/step - loss: 1.4231 - accuracy: 0.5129 - val_loss: 1.3206 - val_accuracy: 0.5458\n",
      "Epoch 10/100\n",
      "195/195 [==============================] - 2s 10ms/step - loss: 1.3790 - accuracy: 0.5216 - val_loss: 1.2712 - val_accuracy: 0.5779\n",
      "Epoch 11/100\n",
      "195/195 [==============================] - 2s 10ms/step - loss: 1.3327 - accuracy: 0.5401 - val_loss: 1.2683 - val_accuracy: 0.5653\n",
      "Epoch 12/100\n",
      "195/195 [==============================] - 2s 10ms/step - loss: 1.2857 - accuracy: 0.5521 - val_loss: 1.2259 - val_accuracy: 0.5893\n",
      "Epoch 13/100\n",
      "195/195 [==============================] - 2s 10ms/step - loss: 1.2490 - accuracy: 0.5668 - val_loss: 1.1676 - val_accuracy: 0.6082\n",
      "Epoch 14/100\n",
      "195/195 [==============================] - 2s 10ms/step - loss: 1.2295 - accuracy: 0.5753 - val_loss: 1.2543 - val_accuracy: 0.5630\n",
      "Epoch 15/100\n",
      "195/195 [==============================] - 2s 10ms/step - loss: 1.2133 - accuracy: 0.5820 - val_loss: 1.1405 - val_accuracy: 0.6340\n",
      "Epoch 16/100\n",
      "195/195 [==============================] - 2s 10ms/step - loss: 1.1524 - accuracy: 0.6031 - val_loss: 1.0837 - val_accuracy: 0.6380\n",
      "Epoch 17/100\n",
      "195/195 [==============================] - 2s 10ms/step - loss: 1.1092 - accuracy: 0.6137 - val_loss: 1.0810 - val_accuracy: 0.6426\n",
      "Epoch 18/100\n",
      "195/195 [==============================] - 2s 11ms/step - loss: 1.1038 - accuracy: 0.6212 - val_loss: 1.0916 - val_accuracy: 0.6409\n",
      "Epoch 19/100\n",
      "195/195 [==============================] - 2s 11ms/step - loss: 1.0798 - accuracy: 0.6277 - val_loss: 1.0553 - val_accuracy: 0.6701\n",
      "Epoch 20/100\n",
      "195/195 [==============================] - 2s 11ms/step - loss: 1.0845 - accuracy: 0.6258 - val_loss: 1.0445 - val_accuracy: 0.6449\n",
      "Epoch 21/100\n",
      "195/195 [==============================] - 2s 11ms/step - loss: 1.0538 - accuracy: 0.6370 - val_loss: 1.0116 - val_accuracy: 0.6661\n",
      "Epoch 22/100\n",
      "195/195 [==============================] - 2s 13ms/step - loss: 1.0218 - accuracy: 0.6472 - val_loss: 1.0064 - val_accuracy: 0.6586\n",
      "Epoch 23/100\n",
      "195/195 [==============================] - 2s 11ms/step - loss: 0.9958 - accuracy: 0.6609 - val_loss: 1.0084 - val_accuracy: 0.6632\n",
      "Epoch 24/100\n",
      "195/195 [==============================] - 2s 10ms/step - loss: 0.9781 - accuracy: 0.6597 - val_loss: 0.9959 - val_accuracy: 0.6730\n",
      "Epoch 25/100\n",
      "195/195 [==============================] - 2s 10ms/step - loss: 0.9827 - accuracy: 0.6639 - val_loss: 0.9920 - val_accuracy: 0.6707\n",
      "Epoch 26/100\n",
      "195/195 [==============================] - 2s 10ms/step - loss: 0.9516 - accuracy: 0.6699 - val_loss: 0.9497 - val_accuracy: 0.6850\n",
      "Epoch 27/100\n",
      "195/195 [==============================] - 2s 10ms/step - loss: 0.9367 - accuracy: 0.6806 - val_loss: 0.9457 - val_accuracy: 0.6787\n",
      "Epoch 28/100\n",
      "195/195 [==============================] - 2s 10ms/step - loss: 0.9231 - accuracy: 0.6738 - val_loss: 0.9177 - val_accuracy: 0.6982\n",
      "Epoch 29/100\n",
      "195/195 [==============================] - 2s 10ms/step - loss: 0.9283 - accuracy: 0.6851 - val_loss: 0.9258 - val_accuracy: 0.6930\n",
      "Epoch 30/100\n",
      "195/195 [==============================] - 2s 10ms/step - loss: 0.9041 - accuracy: 0.6905 - val_loss: 0.8919 - val_accuracy: 0.7096\n",
      "Epoch 31/100\n",
      "195/195 [==============================] - 2s 11ms/step - loss: 0.9077 - accuracy: 0.6951 - val_loss: 0.8742 - val_accuracy: 0.7211\n",
      "Epoch 32/100\n",
      "195/195 [==============================] - 2s 11ms/step - loss: 0.8633 - accuracy: 0.7005 - val_loss: 0.8902 - val_accuracy: 0.7113\n",
      "Epoch 33/100\n",
      "195/195 [==============================] - 2s 11ms/step - loss: 0.8311 - accuracy: 0.7150 - val_loss: 0.8749 - val_accuracy: 0.7131\n",
      "Epoch 34/100\n",
      "195/195 [==============================] - 2s 10ms/step - loss: 0.8539 - accuracy: 0.7113 - val_loss: 0.8942 - val_accuracy: 0.7113\n",
      "Epoch 35/100\n",
      "195/195 [==============================] - 2s 10ms/step - loss: 0.8441 - accuracy: 0.7147 - val_loss: 0.8727 - val_accuracy: 0.7245\n",
      "Epoch 36/100\n",
      "195/195 [==============================] - 2s 10ms/step - loss: 0.8149 - accuracy: 0.7174 - val_loss: 0.8797 - val_accuracy: 0.7194\n",
      "Epoch 37/100\n",
      "195/195 [==============================] - 2s 10ms/step - loss: 0.8209 - accuracy: 0.7194 - val_loss: 0.8403 - val_accuracy: 0.7337\n",
      "Epoch 38/100\n",
      "195/195 [==============================] - 2s 10ms/step - loss: 0.8177 - accuracy: 0.7207 - val_loss: 0.8224 - val_accuracy: 0.7234\n",
      "Epoch 39/100\n",
      "195/195 [==============================] - 2s 10ms/step - loss: 0.7919 - accuracy: 0.7328 - val_loss: 0.8242 - val_accuracy: 0.7388\n",
      "Epoch 40/100\n",
      "195/195 [==============================] - 2s 10ms/step - loss: 0.7934 - accuracy: 0.7285 - val_loss: 0.8201 - val_accuracy: 0.7308\n",
      "Epoch 41/100\n",
      "195/195 [==============================] - 2s 10ms/step - loss: 0.7555 - accuracy: 0.7422 - val_loss: 0.8159 - val_accuracy: 0.7320\n",
      "Epoch 42/100\n",
      "195/195 [==============================] - 2s 10ms/step - loss: 0.7688 - accuracy: 0.7396 - val_loss: 0.7800 - val_accuracy: 0.7503\n",
      "Epoch 43/100\n",
      "195/195 [==============================] - 2s 10ms/step - loss: 0.7462 - accuracy: 0.7426 - val_loss: 0.7727 - val_accuracy: 0.7497\n",
      "Epoch 44/100\n",
      "195/195 [==============================] - 2s 10ms/step - loss: 0.7574 - accuracy: 0.7436 - val_loss: 0.7905 - val_accuracy: 0.7514\n",
      "Epoch 45/100\n",
      "195/195 [==============================] - 2s 10ms/step - loss: 0.7426 - accuracy: 0.7475 - val_loss: 0.7776 - val_accuracy: 0.7532\n",
      "Epoch 46/100\n",
      "195/195 [==============================] - 2s 10ms/step - loss: 0.7325 - accuracy: 0.7494 - val_loss: 0.7703 - val_accuracy: 0.7451\n",
      "Epoch 47/100\n",
      "195/195 [==============================] - 2s 10ms/step - loss: 0.7251 - accuracy: 0.7489 - val_loss: 0.7812 - val_accuracy: 0.7543\n",
      "Epoch 48/100\n",
      "195/195 [==============================] - 2s 11ms/step - loss: 0.7141 - accuracy: 0.7521 - val_loss: 0.7996 - val_accuracy: 0.7423\n",
      "Epoch 49/100\n",
      "195/195 [==============================] - 2s 13ms/step - loss: 0.7134 - accuracy: 0.7572 - val_loss: 0.7680 - val_accuracy: 0.7600\n",
      "Epoch 50/100\n",
      "195/195 [==============================] - 3s 15ms/step - loss: 0.7145 - accuracy: 0.7554 - val_loss: 0.7782 - val_accuracy: 0.7600\n",
      "Epoch 51/100\n",
      "195/195 [==============================] - 3s 14ms/step - loss: 0.7144 - accuracy: 0.7544 - val_loss: 0.7498 - val_accuracy: 0.7577\n",
      "Epoch 52/100\n",
      "195/195 [==============================] - 3s 13ms/step - loss: 0.7236 - accuracy: 0.7562 - val_loss: 0.7988 - val_accuracy: 0.7417\n",
      "Epoch 53/100\n",
      "195/195 [==============================] - 3s 14ms/step - loss: 0.7099 - accuracy: 0.7577 - val_loss: 0.7740 - val_accuracy: 0.7589\n",
      "Epoch 54/100\n",
      "195/195 [==============================] - 2s 12ms/step - loss: 0.7309 - accuracy: 0.7529 - val_loss: 0.7712 - val_accuracy: 0.7646\n",
      "Epoch 55/100\n",
      "195/195 [==============================] - 2s 13ms/step - loss: 0.6610 - accuracy: 0.7741 - val_loss: 0.7674 - val_accuracy: 0.7658\n",
      "Epoch 56/100\n",
      "195/195 [==============================] - 2s 12ms/step - loss: 0.6662 - accuracy: 0.7687 - val_loss: 0.7727 - val_accuracy: 0.7669\n",
      "Epoch 57/100\n"
     ]
    },
    {
     "name": "stdout",
     "output_type": "stream",
     "text": [
      "195/195 [==============================] - 2s 12ms/step - loss: 0.6583 - accuracy: 0.7720 - val_loss: 0.7629 - val_accuracy: 0.7692\n",
      "Epoch 58/100\n",
      "195/195 [==============================] - 3s 14ms/step - loss: 0.6443 - accuracy: 0.7813 - val_loss: 0.7819 - val_accuracy: 0.7692\n",
      "Epoch 59/100\n",
      "195/195 [==============================] - 3s 13ms/step - loss: 0.6527 - accuracy: 0.7781 - val_loss: 0.7584 - val_accuracy: 0.7646\n",
      "Epoch 60/100\n",
      "195/195 [==============================] - 2s 12ms/step - loss: 0.6329 - accuracy: 0.7831 - val_loss: 0.7400 - val_accuracy: 0.7675\n",
      "Epoch 61/100\n",
      "195/195 [==============================] - 3s 13ms/step - loss: 0.6347 - accuracy: 0.7800 - val_loss: 0.7379 - val_accuracy: 0.7772\n",
      "Epoch 62/100\n",
      "195/195 [==============================] - 3s 17ms/step - loss: 0.6414 - accuracy: 0.7794 - val_loss: 0.7110 - val_accuracy: 0.7772\n",
      "Epoch 63/100\n",
      "195/195 [==============================] - 3s 13ms/step - loss: 0.6840 - accuracy: 0.7675 - val_loss: 0.7359 - val_accuracy: 0.7801\n",
      "Epoch 64/100\n",
      "195/195 [==============================] - 3s 13ms/step - loss: 0.6358 - accuracy: 0.7800 - val_loss: 0.7367 - val_accuracy: 0.7812\n",
      "Epoch 65/100\n",
      "195/195 [==============================] - 3s 13ms/step - loss: 0.6901 - accuracy: 0.7737 - val_loss: 0.6939 - val_accuracy: 0.7801\n",
      "Epoch 66/100\n",
      "195/195 [==============================] - 2s 13ms/step - loss: 0.6167 - accuracy: 0.7914 - val_loss: 0.7318 - val_accuracy: 0.7709\n",
      "Epoch 67/100\n",
      "195/195 [==============================] - 3s 13ms/step - loss: 0.6325 - accuracy: 0.7867 - val_loss: 0.7187 - val_accuracy: 0.7898\n",
      "Epoch 68/100\n",
      "195/195 [==============================] - 3s 13ms/step - loss: 0.5750 - accuracy: 0.8035 - val_loss: 0.7083 - val_accuracy: 0.7847\n",
      "Epoch 69/100\n",
      "195/195 [==============================] - 2s 11ms/step - loss: 0.5947 - accuracy: 0.8006 - val_loss: 0.7170 - val_accuracy: 0.7841\n",
      "Epoch 70/100\n",
      "195/195 [==============================] - 3s 13ms/step - loss: 0.5936 - accuracy: 0.7972 - val_loss: 0.6856 - val_accuracy: 0.7864\n",
      "Epoch 71/100\n",
      "195/195 [==============================] - 3s 13ms/step - loss: 0.5837 - accuracy: 0.8002 - val_loss: 0.7031 - val_accuracy: 0.7887\n",
      "Epoch 72/100\n",
      "195/195 [==============================] - 3s 15ms/step - loss: 0.6225 - accuracy: 0.7867 - val_loss: 0.7374 - val_accuracy: 0.7680\n",
      "Epoch 73/100\n",
      "195/195 [==============================] - 3s 14ms/step - loss: 0.5803 - accuracy: 0.8048 - val_loss: 0.7043 - val_accuracy: 0.7801\n",
      "Epoch 74/100\n",
      "195/195 [==============================] - 3s 14ms/step - loss: 0.6034 - accuracy: 0.7900 - val_loss: 0.7144 - val_accuracy: 0.7806\n",
      "Epoch 75/100\n",
      "195/195 [==============================] - 2s 13ms/step - loss: 0.6044 - accuracy: 0.7926 - val_loss: 0.7078 - val_accuracy: 0.7789\n",
      "Epoch 76/100\n",
      "195/195 [==============================] - 2s 13ms/step - loss: 0.5801 - accuracy: 0.8013 - val_loss: 0.7091 - val_accuracy: 0.7944\n",
      "Epoch 77/100\n",
      "195/195 [==============================] - 2s 12ms/step - loss: 0.6072 - accuracy: 0.7970 - val_loss: 0.7162 - val_accuracy: 0.7847\n",
      "Epoch 78/100\n",
      "195/195 [==============================] - 2s 12ms/step - loss: 0.5884 - accuracy: 0.8017 - val_loss: 0.7056 - val_accuracy: 0.7881\n",
      "Epoch 79/100\n",
      "195/195 [==============================] - 2s 12ms/step - loss: 0.5620 - accuracy: 0.8058 - val_loss: 0.6858 - val_accuracy: 0.7898\n",
      "Epoch 80/100\n",
      "195/195 [==============================] - 2s 12ms/step - loss: 0.5481 - accuracy: 0.8115 - val_loss: 0.7194 - val_accuracy: 0.7772\n",
      "Epoch 81/100\n",
      "195/195 [==============================] - 2s 11ms/step - loss: 0.5955 - accuracy: 0.8030 - val_loss: 0.7206 - val_accuracy: 0.7944\n",
      "Epoch 82/100\n",
      "195/195 [==============================] - 2s 11ms/step - loss: 0.6170 - accuracy: 0.7960 - val_loss: 0.7008 - val_accuracy: 0.7875\n",
      "Epoch 83/100\n",
      "195/195 [==============================] - 2s 11ms/step - loss: 0.5550 - accuracy: 0.8080 - val_loss: 0.6959 - val_accuracy: 0.8001\n",
      "Epoch 84/100\n",
      "195/195 [==============================] - 2s 11ms/step - loss: 0.5387 - accuracy: 0.8185 - val_loss: 0.6721 - val_accuracy: 0.7875\n",
      "Epoch 85/100\n",
      "195/195 [==============================] - 2s 12ms/step - loss: 0.5366 - accuracy: 0.8108 - val_loss: 0.6639 - val_accuracy: 0.8013\n",
      "Epoch 86/100\n",
      "195/195 [==============================] - 2s 12ms/step - loss: 0.5468 - accuracy: 0.8173 - val_loss: 0.6632 - val_accuracy: 0.7944\n",
      "Epoch 87/100\n",
      "195/195 [==============================] - 2s 12ms/step - loss: 0.5387 - accuracy: 0.8100 - val_loss: 0.6973 - val_accuracy: 0.7961\n",
      "Epoch 88/100\n",
      "195/195 [==============================] - 2s 11ms/step - loss: 0.5255 - accuracy: 0.8218 - val_loss: 0.6950 - val_accuracy: 0.7904\n",
      "Epoch 89/100\n",
      "195/195 [==============================] - 2s 12ms/step - loss: 0.5143 - accuracy: 0.8206 - val_loss: 0.6952 - val_accuracy: 0.8013\n",
      "Epoch 90/100\n",
      "195/195 [==============================] - 2s 12ms/step - loss: 0.5249 - accuracy: 0.8196 - val_loss: 0.6950 - val_accuracy: 0.7921\n",
      "Epoch 91/100\n",
      "195/195 [==============================] - 2s 12ms/step - loss: 0.5616 - accuracy: 0.8123 - val_loss: 0.6848 - val_accuracy: 0.7927\n",
      "Epoch 92/100\n",
      "195/195 [==============================] - 3s 15ms/step - loss: 0.5329 - accuracy: 0.8161 - val_loss: 0.6665 - val_accuracy: 0.7932\n",
      "Epoch 93/100\n",
      "195/195 [==============================] - 2s 12ms/step - loss: 0.5593 - accuracy: 0.8145 - val_loss: 0.6929 - val_accuracy: 0.8013\n",
      "Epoch 94/100\n",
      "195/195 [==============================] - 3s 14ms/step - loss: 0.5502 - accuracy: 0.8178 - val_loss: 0.6915 - val_accuracy: 0.7973\n",
      "Epoch 95/100\n",
      "195/195 [==============================] - 2s 13ms/step - loss: 0.5472 - accuracy: 0.8142 - val_loss: 0.7023 - val_accuracy: 0.8030\n",
      "Epoch 96/100\n",
      "195/195 [==============================] - 2s 12ms/step - loss: 0.5303 - accuracy: 0.8218 - val_loss: 0.6868 - val_accuracy: 0.8013\n",
      "Epoch 97/100\n",
      "195/195 [==============================] - 2s 13ms/step - loss: 0.4880 - accuracy: 0.8222 - val_loss: 0.6817 - val_accuracy: 0.7938\n",
      "Epoch 98/100\n",
      "195/195 [==============================] - 2s 12ms/step - loss: 0.5023 - accuracy: 0.8297 - val_loss: 0.6975 - val_accuracy: 0.7973\n",
      "Epoch 99/100\n",
      "195/195 [==============================] - 3s 13ms/step - loss: 0.5192 - accuracy: 0.8238 - val_loss: 0.7002 - val_accuracy: 0.8013\n",
      "Epoch 100/100\n",
      "195/195 [==============================] - 2s 12ms/step - loss: 0.5029 - accuracy: 0.8311 - val_loss: 0.6837 - val_accuracy: 0.8081\n"
     ]
    }
   ],
   "source": [
    "from keras import Sequential\n",
    "from keras.layers import Dense,Conv2D,MaxPooling2D,Flatten,Dropout\n",
    "\n",
    "model=Sequential()\n",
    "model.add(Conv2D(64,kernel_size=3,strides=1,padding=\"Same\",activation=\"relu\",input_shape=(40,3,1)))\n",
    "model.add(MaxPooling2D(padding=\"same\"))\n",
    "model.add(Conv2D(128,kernel_size=3,strides=1,padding=\"same\",activation=\"relu\"))\n",
    "model.add(MaxPooling2D(padding=\"same\"))\n",
    "model.add(Dropout(0.3))\n",
    "model.add(Flatten())\n",
    "model.add(Dense(256,activation=\"relu\"))\n",
    "model.add(Dropout(0.3))\n",
    "model.add(Dense(512,activation=\"relu\"))\n",
    "model.add(Dropout(0.3))\n",
    "model.add(Dense(10,activation=\"softmax\"))\n",
    "model.compile(optimizer=\"adam\",loss=\"categorical_crossentropy\",metrics=[\"accuracy\"])\n",
    "\n",
    "history_relu=model.fit(X_train,y_train,batch_size=36,epochs=100,validation_data=(X_test,y_test))"
   ]
  },
  {
   "cell_type": "code",
   "execution_count": 29,
   "id": "4c6123be",
   "metadata": {},
   "outputs": [
    {
     "name": "stdout",
     "output_type": "stream",
     "text": [
      "219/219 [==============================] - 1s 3ms/step - loss: 0.2759 - accuracy: 0.9101\n",
      "55/55 [==============================] - 0s 3ms/step - loss: 0.6837 - accuracy: 0.8081\n",
      "[0.27594876289367676, 0.9101059436798096]\n",
      "[0.6837266683578491, 0.8081328868865967]\n"
     ]
    }
   ],
   "source": [
    "train_loss_score=model.evaluate(X_train,y_train)\n",
    "test_loss_score=model.evaluate(X_test,y_test)\n",
    "print(train_loss_score)\n",
    "print(test_loss_score)"
   ]
  },
  {
   "cell_type": "code",
   "execution_count": 30,
   "id": "72887c41",
   "metadata": {},
   "outputs": [
    {
     "name": "stderr",
     "output_type": "stream",
     "text": [
      "C:\\Users\\Meltem\\AppData\\Local\\Temp/ipykernel_45872/1832282416.py:6: SettingWithCopyWarning: \n",
      "A value is trying to be set on a copy of a slice from a DataFrame.\n",
      "Try using .loc[row_indexer,col_indexer] = value instead\n",
      "\n",
      "See the caveats in the documentation: https://pandas.pydata.org/pandas-docs/stable/user_guide/indexing.html#returning-a-view-versus-a-copy\n",
      "  test['pred'] = yhat_probs\n"
     ]
    }
   ],
   "source": [
    "y_probs = model.predict(X_test)\n",
    "\n",
    "yhat_probs = np.argmax(y_probs, axis=1)\n",
    "y_trues = np.argmax(y_test, axis=1)\n",
    "\n",
    "test['pred'] = yhat_probs"
   ]
  },
  {
   "cell_type": "code",
   "execution_count": 31,
   "id": "46a93f97",
   "metadata": {},
   "outputs": [
    {
     "name": "stdout",
     "output_type": "stream",
     "text": [
      "[[184   0   3   0   3   4   1   2   4   4]\n",
      " [  1  71   4   1   0   1   0   0   2  11]\n",
      " [  4   1 137  11   2  12   5   7  13  19]\n",
      " [  1   0  24 134   5   3   0   0  17  11]\n",
      " [  4   1   5   3 181   0   1  10   1  12]\n",
      " [  3   1   4   1   0 182   0   0   4   2]\n",
      " [  4   0   8   0   5   0  63   2   1   2]\n",
      " [  0   0   0   0   6   0   0 171   3   1]\n",
      " [  1   1   8   8   0   0   0   1 161   3]\n",
      " [  9   1  11  10   5   3   0   6   8 127]]\n"
     ]
    }
   ],
   "source": [
    "np.set_printoptions(precision=2)\n",
    "\n",
    "cm = confusion_matrix(y_trues, yhat_probs)\n",
    "print(cm) "
   ]
  },
  {
   "cell_type": "code",
   "execution_count": 32,
   "id": "eebe9e6b",
   "metadata": {},
   "outputs": [
    {
     "name": "stdout",
     "output_type": "stream",
     "text": [
      "                  precision    recall  f1-score   support\n",
      "\n",
      " Air Conditioner       0.87      0.90      0.88       205\n",
      "        Car Horn       0.93      0.78      0.85        91\n",
      "Children Playing       0.67      0.65      0.66       211\n",
      "        Dog bark       0.80      0.69      0.74       195\n",
      "        Drilling       0.87      0.83      0.85       218\n",
      "   Engine Idling       0.89      0.92      0.91       197\n",
      "        Gun Shot       0.90      0.74      0.81        85\n",
      "      Jackhammer       0.86      0.94      0.90       181\n",
      "           Siren       0.75      0.88      0.81       183\n",
      "    Street Music       0.66      0.71      0.68       180\n",
      "\n",
      "        accuracy                           0.81      1746\n",
      "       macro avg       0.82      0.80      0.81      1746\n",
      "    weighted avg       0.81      0.81      0.81      1746\n",
      "\n"
     ]
    }
   ],
   "source": [
    "labels = [\n",
    "        'Air Conditioner',\n",
    "        'Car Horn',\n",
    "        'Children Playing',\n",
    "        'Dog bark',\n",
    "        'Drilling',\n",
    "        'Engine Idling',\n",
    "        'Gun Shot',\n",
    "        'Jackhammer',\n",
    "        'Siren',\n",
    "        'Street Music'\n",
    "    ]\n",
    "\n",
    "re = classification_report(y_trues, yhat_probs, labels=[0,1,2,3,4,5,6,7,8,9], target_names=labels)\n",
    "\n",
    "print(re)"
   ]
  },
  {
   "cell_type": "code",
   "execution_count": 33,
   "id": "0b50375c",
   "metadata": {},
   "outputs": [
    {
     "data": {
      "image/png": "[encoded data removed]",
      "text/plain": [
       "<Figure size 432x288 with 1 Axes>"
      ]
     },
     "metadata": {
      "needs_background": "light"
     },
     "output_type": "display_data"
    }
   ],
   "source": [
    "metrics = history_relu.history\n",
    "plt.plot(history_relu.epoch, metrics['loss'], metrics['val_loss'])\n",
    "plt.legend(['train_loss', 'test_loss'])\n",
    "plt.xlabel('Epoch')\n",
    "plt.ylabel('Loss')\n",
    "plt.show()"
   ]
  },
  {
   "cell_type": "code",
   "execution_count": 34,
   "id": "7c11cda7",
   "metadata": {},
   "outputs": [
    {
     "data": {
      "image/png": "[encoded data removed]",
      "text/plain": [
       "<Figure size 432x288 with 1 Axes>"
      ]
     },
     "metadata": {
      "needs_background": "light"
     },
     "output_type": "display_data"
    }
   ],
   "source": [
    "plt.plot(history_relu.history['accuracy'], label='train_accuracy')\n",
    "plt.plot(history_relu.history['val_accuracy'], label='test_accuracy')\n",
    "plt.xlabel('Epoch')\n",
    "plt.ylabel('Accuracy')\n",
    "plt.legend()\n",
    "plt.grid(True)"
   ]
  },
  {
   "cell_type": "code",
   "execution_count": null,
   "id": "04762bb5",
   "metadata": {},
   "outputs": [],
   "source": []
  }
 ],
 "metadata": {
  "kernelspec": {
   "display_name": "Python 3 (ipykernel)",
   "language": "python",
   "name": "python3"
  },
  "language_info": {
   "codemirror_mode": {
    "name": "ipython",
    "version": 3
   },
   "file_extension": ".py",
   "mimetype": "text/x-python",
   "name": "python",
   "nbconvert_exporter": "python",
   "pygments_lexer": "ipython3",
   "version": "3.9.7"
  }
 },
 "nbformat": 4,
 "nbformat_minor": 5
}
