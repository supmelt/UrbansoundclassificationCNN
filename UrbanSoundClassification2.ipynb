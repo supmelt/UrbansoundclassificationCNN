{
 "cells": [
  {
   "cell_type": "code",
   "execution_count": 35,
   "id": "10dde121",
   "metadata": {},
   "outputs": [],
   "source": [
    "import pandas as pd\n",
    "import numpy as np\n",
    "import matplotlib.pyplot as plt\n",
    "%matplotlib inline\n",
    "import seaborn as sns\n",
    "import os\n",
    "import sys\n",
    "from tqdm import tqdm\n",
    "import IPython\n",
    "import math\n",
    "import pickle\n",
    "import random\n",
    "from datetime import datetime\n",
    "import os\n",
    "import librosa\n",
    "import librosa.display\n",
    "import glob \n",
    "import skimage"
   ]
  },
  {
   "cell_type": "code",
   "execution_count": 36,
   "id": "bb0b884a",
   "metadata": {},
   "outputs": [
    {
     "name": "stdout",
     "output_type": "stream",
     "text": [
      "Requirement already satisfied: keras.utils in c:\\users\\meltem\\anaconda3\\lib\\site-packages (1.0.13)\n",
      "Requirement already satisfied: Keras>=2.1.5 in c:\\users\\meltem\\anaconda3\\lib\\site-packages (from keras.utils) (2.8.0)\n",
      "Note: you may need to restart the kernel to use updated packages.\n"
     ]
    }
   ],
   "source": [
    "pip install keras.utils"
   ]
  },
  {
   "cell_type": "code",
   "execution_count": 37,
   "id": "2d413890",
   "metadata": {},
   "outputs": [],
   "source": [
    "from keras import backend as keras_backend\n",
    "from keras.models import Sequential, load_model\n",
    "from keras.layers import Dense, SpatialDropout2D, Activation, Conv2D, MaxPooling2D, BatchNormalization, GlobalAveragePooling2D, LeakyReLU\n",
    "from tensorflow.keras.optimizers import Adam\n",
    "\n",
    "from tensorflow.keras.optimizers import Adam\n",
    "\n",
    "from tensorflow.keras.utils import to_categorical\n",
    "from keras.callbacks import ModelCheckpoint \n",
    "from keras.regularizers import l2\n",
    "\n",
    "from sklearn.preprocessing import LabelEncoder\n",
    "from sklearn.metrics import classification_report, confusion_matrix"
   ]
  },
  {
   "cell_type": "code",
   "execution_count": 39,
   "id": "ef667f3b",
   "metadata": {},
   "outputs": [
    {
     "data": {
      "text/plain": [
       "(8732, 8)"
      ]
     },
     "execution_count": 39,
     "metadata": {},
     "output_type": "execute_result"
    }
   ],
   "source": [
    "df = pd.read_csv(\"C:/Users/Meltem/Desktop/Urban-Sound-Classification-using-CNN-main/Urban-Sound-Classification-using-CNN-main/metadata/UrbanSound8K.csv\")\n",
    "df.shape"
   ]
  },
  {
   "cell_type": "code",
   "execution_count": 40,
   "id": "b280a75a",
   "metadata": {},
   "outputs": [
    {
     "data": {
      "text/html": [
       "<div>\n",
       "<style scoped>\n",
       "    .dataframe tbody tr th:only-of-type {\n",
       "        vertical-align: middle;\n",
       "    }\n",
       "\n",
       "    .dataframe tbody tr th {\n",
       "        vertical-align: top;\n",
       "    }\n",
       "\n",
       "    .dataframe thead th {\n",
       "        text-align: right;\n",
       "    }\n",
       "</style>\n",
       "<table border=\"1\" class=\"dataframe\">\n",
       "  <thead>\n",
       "    <tr style=\"text-align: right;\">\n",
       "      <th></th>\n",
       "      <th>slice_file_name</th>\n",
       "      <th>fsID</th>\n",
       "      <th>start</th>\n",
       "      <th>end</th>\n",
       "      <th>salience</th>\n",
       "      <th>fold</th>\n",
       "      <th>classID</th>\n",
       "      <th>class</th>\n",
       "    </tr>\n",
       "  </thead>\n",
       "  <tbody>\n",
       "    <tr>\n",
       "      <th>0</th>\n",
       "      <td>100032-3-0-0.wav</td>\n",
       "      <td>100032</td>\n",
       "      <td>0.0</td>\n",
       "      <td>0.317551</td>\n",
       "      <td>1</td>\n",
       "      <td>5</td>\n",
       "      <td>3</td>\n",
       "      <td>dog_bark</td>\n",
       "    </tr>\n",
       "    <tr>\n",
       "      <th>1</th>\n",
       "      <td>100263-2-0-117.wav</td>\n",
       "      <td>100263</td>\n",
       "      <td>58.5</td>\n",
       "      <td>62.500000</td>\n",
       "      <td>1</td>\n",
       "      <td>5</td>\n",
       "      <td>2</td>\n",
       "      <td>children_playing</td>\n",
       "    </tr>\n",
       "    <tr>\n",
       "      <th>2</th>\n",
       "      <td>100263-2-0-121.wav</td>\n",
       "      <td>100263</td>\n",
       "      <td>60.5</td>\n",
       "      <td>64.500000</td>\n",
       "      <td>1</td>\n",
       "      <td>5</td>\n",
       "      <td>2</td>\n",
       "      <td>children_playing</td>\n",
       "    </tr>\n",
       "    <tr>\n",
       "      <th>3</th>\n",
       "      <td>100263-2-0-126.wav</td>\n",
       "      <td>100263</td>\n",
       "      <td>63.0</td>\n",
       "      <td>67.000000</td>\n",
       "      <td>1</td>\n",
       "      <td>5</td>\n",
       "      <td>2</td>\n",
       "      <td>children_playing</td>\n",
       "    </tr>\n",
       "    <tr>\n",
       "      <th>4</th>\n",
       "      <td>100263-2-0-137.wav</td>\n",
       "      <td>100263</td>\n",
       "      <td>68.5</td>\n",
       "      <td>72.500000</td>\n",
       "      <td>1</td>\n",
       "      <td>5</td>\n",
       "      <td>2</td>\n",
       "      <td>children_playing</td>\n",
       "    </tr>\n",
       "  </tbody>\n",
       "</table>\n",
       "</div>"
      ],
      "text/plain": [
       "      slice_file_name    fsID  start        end  salience  fold  classID  \\\n",
       "0    100032-3-0-0.wav  100032    0.0   0.317551         1     5        3   \n",
       "1  100263-2-0-117.wav  100263   58.5  62.500000         1     5        2   \n",
       "2  100263-2-0-121.wav  100263   60.5  64.500000         1     5        2   \n",
       "3  100263-2-0-126.wav  100263   63.0  67.000000         1     5        2   \n",
       "4  100263-2-0-137.wav  100263   68.5  72.500000         1     5        2   \n",
       "\n",
       "              class  \n",
       "0          dog_bark  \n",
       "1  children_playing  \n",
       "2  children_playing  \n",
       "3  children_playing  \n",
       "4  children_playing  "
      ]
     },
     "execution_count": 40,
     "metadata": {},
     "output_type": "execute_result"
    }
   ],
   "source": [
    "df.head()"
   ]
  },
  {
   "cell_type": "code",
   "execution_count": 41,
   "id": "d1272d2d",
   "metadata": {},
   "outputs": [
    {
     "data": {
      "text/plain": [
       "4     990\n",
       "5     936\n",
       "3     925\n",
       "2     888\n",
       "1     873\n",
       "7     838\n",
       "10    837\n",
       "6     823\n",
       "9     816\n",
       "8     806\n",
       "Name: fold, dtype: int64"
      ]
     },
     "execution_count": 41,
     "metadata": {},
     "output_type": "execute_result"
    }
   ],
   "source": [
    "df[\"fold\"].value_counts()"
   ]
  },
  {
   "cell_type": "code",
   "execution_count": 42,
   "id": "2dce83cb",
   "metadata": {},
   "outputs": [
    {
     "data": {
      "text/html": [
       "<div>\n",
       "<style scoped>\n",
       "    .dataframe tbody tr th:only-of-type {\n",
       "        vertical-align: middle;\n",
       "    }\n",
       "\n",
       "    .dataframe tbody tr th {\n",
       "        vertical-align: top;\n",
       "    }\n",
       "\n",
       "    .dataframe thead th {\n",
       "        text-align: right;\n",
       "    }\n",
       "</style>\n",
       "<table border=\"1\" class=\"dataframe\">\n",
       "  <thead>\n",
       "    <tr style=\"text-align: right;\">\n",
       "      <th></th>\n",
       "      <th>index</th>\n",
       "      <th>jackhammer</th>\n",
       "      <th>dog_bark</th>\n",
       "      <th>children_playing</th>\n",
       "      <th>street_music</th>\n",
       "      <th>air_conditioner</th>\n",
       "      <th>drilling</th>\n",
       "      <th>engine_idling</th>\n",
       "      <th>siren</th>\n",
       "      <th>car_horn</th>\n",
       "      <th>gun_shot</th>\n",
       "    </tr>\n",
       "  </thead>\n",
       "  <tbody>\n",
       "    <tr>\n",
       "      <th>0</th>\n",
       "      <td>fold1</td>\n",
       "      <td>120</td>\n",
       "      <td>100</td>\n",
       "      <td>100</td>\n",
       "      <td>100</td>\n",
       "      <td>100</td>\n",
       "      <td>100</td>\n",
       "      <td>96</td>\n",
       "      <td>86</td>\n",
       "      <td>36</td>\n",
       "      <td>35</td>\n",
       "    </tr>\n",
       "    <tr>\n",
       "      <th>1</th>\n",
       "      <td>fold2</td>\n",
       "      <td>120</td>\n",
       "      <td>100</td>\n",
       "      <td>100</td>\n",
       "      <td>100</td>\n",
       "      <td>100</td>\n",
       "      <td>100</td>\n",
       "      <td>100</td>\n",
       "      <td>91</td>\n",
       "      <td>42</td>\n",
       "      <td>35</td>\n",
       "    </tr>\n",
       "    <tr>\n",
       "      <th>2</th>\n",
       "      <td>fold3</td>\n",
       "      <td>120</td>\n",
       "      <td>100</td>\n",
       "      <td>100</td>\n",
       "      <td>100</td>\n",
       "      <td>100</td>\n",
       "      <td>100</td>\n",
       "      <td>107</td>\n",
       "      <td>119</td>\n",
       "      <td>43</td>\n",
       "      <td>36</td>\n",
       "    </tr>\n",
       "    <tr>\n",
       "      <th>3</th>\n",
       "      <td>fold4</td>\n",
       "      <td>120</td>\n",
       "      <td>100</td>\n",
       "      <td>100</td>\n",
       "      <td>100</td>\n",
       "      <td>100</td>\n",
       "      <td>100</td>\n",
       "      <td>107</td>\n",
       "      <td>166</td>\n",
       "      <td>59</td>\n",
       "      <td>38</td>\n",
       "    </tr>\n",
       "    <tr>\n",
       "      <th>4</th>\n",
       "      <td>fold5</td>\n",
       "      <td>120</td>\n",
       "      <td>100</td>\n",
       "      <td>100</td>\n",
       "      <td>100</td>\n",
       "      <td>100</td>\n",
       "      <td>100</td>\n",
       "      <td>107</td>\n",
       "      <td>71</td>\n",
       "      <td>98</td>\n",
       "      <td>40</td>\n",
       "    </tr>\n",
       "    <tr>\n",
       "      <th>5</th>\n",
       "      <td>fold6</td>\n",
       "      <td>68</td>\n",
       "      <td>100</td>\n",
       "      <td>100</td>\n",
       "      <td>100</td>\n",
       "      <td>100</td>\n",
       "      <td>100</td>\n",
       "      <td>107</td>\n",
       "      <td>74</td>\n",
       "      <td>28</td>\n",
       "      <td>46</td>\n",
       "    </tr>\n",
       "    <tr>\n",
       "      <th>6</th>\n",
       "      <td>fold7</td>\n",
       "      <td>76</td>\n",
       "      <td>100</td>\n",
       "      <td>100</td>\n",
       "      <td>100</td>\n",
       "      <td>100</td>\n",
       "      <td>100</td>\n",
       "      <td>106</td>\n",
       "      <td>77</td>\n",
       "      <td>28</td>\n",
       "      <td>51</td>\n",
       "    </tr>\n",
       "    <tr>\n",
       "      <th>7</th>\n",
       "      <td>fold8</td>\n",
       "      <td>78</td>\n",
       "      <td>100</td>\n",
       "      <td>100</td>\n",
       "      <td>100</td>\n",
       "      <td>100</td>\n",
       "      <td>100</td>\n",
       "      <td>88</td>\n",
       "      <td>80</td>\n",
       "      <td>30</td>\n",
       "      <td>30</td>\n",
       "    </tr>\n",
       "    <tr>\n",
       "      <th>8</th>\n",
       "      <td>fold9</td>\n",
       "      <td>82</td>\n",
       "      <td>100</td>\n",
       "      <td>100</td>\n",
       "      <td>100</td>\n",
       "      <td>100</td>\n",
       "      <td>100</td>\n",
       "      <td>89</td>\n",
       "      <td>82</td>\n",
       "      <td>32</td>\n",
       "      <td>31</td>\n",
       "    </tr>\n",
       "    <tr>\n",
       "      <th>9</th>\n",
       "      <td>fold10</td>\n",
       "      <td>96</td>\n",
       "      <td>100</td>\n",
       "      <td>100</td>\n",
       "      <td>100</td>\n",
       "      <td>100</td>\n",
       "      <td>100</td>\n",
       "      <td>93</td>\n",
       "      <td>83</td>\n",
       "      <td>33</td>\n",
       "      <td>32</td>\n",
       "    </tr>\n",
       "  </tbody>\n",
       "</table>\n",
       "</div>"
      ],
      "text/plain": [
       "    index  jackhammer  dog_bark  children_playing  street_music  \\\n",
       "0   fold1         120       100               100           100   \n",
       "1   fold2         120       100               100           100   \n",
       "2   fold3         120       100               100           100   \n",
       "3   fold4         120       100               100           100   \n",
       "4   fold5         120       100               100           100   \n",
       "5   fold6          68       100               100           100   \n",
       "6   fold7          76       100               100           100   \n",
       "7   fold8          78       100               100           100   \n",
       "8   fold9          82       100               100           100   \n",
       "9  fold10          96       100               100           100   \n",
       "\n",
       "   air_conditioner  drilling  engine_idling  siren  car_horn  gun_shot  \n",
       "0              100       100             96     86        36        35  \n",
       "1              100       100            100     91        42        35  \n",
       "2              100       100            107    119        43        36  \n",
       "3              100       100            107    166        59        38  \n",
       "4              100       100            107     71        98        40  \n",
       "5              100       100            107     74        28        46  \n",
       "6              100       100            106     77        28        51  \n",
       "7              100       100             88     80        30        30  \n",
       "8              100       100             89     82        32        31  \n",
       "9              100       100             93     83        33        32  "
      ]
     },
     "execution_count": 42,
     "metadata": {},
     "output_type": "execute_result"
    }
   ],
   "source": [
    "appended = []\n",
    "for i in range(1,11):\n",
    "    appended.append(df[df.fold == i]['class'].value_counts())\n",
    "    \n",
    "class_distribution = pd.DataFrame(appended)\n",
    "class_distribution = class_distribution.reset_index()\n",
    "class_distribution['index'] = [\"fold\"+str(x) for x in range(1,11)]\n",
    "class_distribution"
   ]
  },
  {
   "cell_type": "code",
   "execution_count": 43,
   "id": "2020b5de",
   "metadata": {},
   "outputs": [
    {
     "data": {
      "text/plain": [
       "dog_bark            0.114521\n",
       "children_playing    0.114521\n",
       "air_conditioner     0.114521\n",
       "street_music        0.114521\n",
       "engine_idling       0.114521\n",
       "jackhammer          0.114521\n",
       "drilling            0.114521\n",
       "siren               0.106390\n",
       "car_horn            0.049130\n",
       "gun_shot            0.042831\n",
       "Name: class, dtype: float64"
      ]
     },
     "execution_count": 43,
     "metadata": {},
     "output_type": "execute_result"
    }
   ],
   "source": [
    "df['class'].value_counts(normalize=True)"
   ]
  },
  {
   "cell_type": "code",
   "execution_count": 44,
   "id": "baa4a38d",
   "metadata": {},
   "outputs": [
    {
     "name": "stderr",
     "output_type": "stream",
     "text": [
      "C:\\Users\\Meltem\\AppData\\Local\\Temp/ipykernel_45872/3902983155.py:7: FutureWarning: Pass y=[-0.   -0.01 -0.   ... -0.   -0.   -0.  ], sr=22050 as keyword args. From version 0.10 passing these as positional arguments will result in an error\n",
      "  mfccs = librosa.feature.mfcc(y, sr, n_mfcc=40)\n"
     ]
    },
    {
     "data": {
      "image/png": "[encoded data removed]",
      "text/plain": [
       "<Figure size 720x288 with 2 Axes>"
      ]
     },
     "metadata": {
      "needs_background": "light"
     },
     "output_type": "display_data"
    }
   ],
   "source": [
    "import os\n",
    "import IPython.display as ipd\n",
    "ipd.Audio('C:/Users/Meltem/Desktop/Urban-Sound-Classification-using-CNN-main/Urban-Sound-Classification-using-CNN-main/audio/fold9/101729-0-0-18.wav')\n",
    "\n",
    "#MFCC \n",
    "y,sr=librosa.load(\"C:/Users/Meltem/Desktop/Urban-Sound-Classification-using-CNN-main/Urban-Sound-Classification-using-CNN-main/audio/fold5/100032-3-0-0.wav\")\n",
    "mfccs = librosa.feature.mfcc(y, sr, n_mfcc=40)\n",
    "\n",
    "import matplotlib.pyplot as plt\n",
    "plt.figure(figsize=(10,4))\n",
    "librosa.display.specshow(mfccs, x_axis='time')\n",
    "plt.colorbar()\n",
    "plt.title('MFCC')\n",
    "plt.tight_layout()"
   ]
  },
  {
   "cell_type": "code",
   "execution_count": 45,
   "id": "ed26f76e",
   "metadata": {},
   "outputs": [
    {
     "data": {
      "image/png": "[encoded data removed]",
      "text/plain": [
       "<Figure size 720x288 with 2 Axes>"
      ]
     },
     "metadata": {
      "needs_background": "light"
     },
     "output_type": "display_data"
    }
   ],
   "source": [
    "#Melspectrogram\n",
    "melspectrogram =librosa.feature.melspectrogram(y=y, sr=sr, n_mels=40,fmax=8000)\n",
    "plt.figure(figsize=(10,4))\n",
    "librosa.display.specshow(librosa.power_to_db(melspectrogram,ref=np.max),y_axis='mel', fmax=8000,x_axis='time')\n",
    "plt.colorbar(format='%+2.0f dB')\n",
    "plt.title('Mel spectrogram')\n",
    "plt.tight_layout()"
   ]
  },
  {
   "cell_type": "code",
   "execution_count": 46,
   "id": "684e2b54",
   "metadata": {},
   "outputs": [
    {
     "data": {
      "image/png": "[encoded data removed]",
      "text/plain": [
       "<Figure size 720x288 with 2 Axes>"
      ]
     },
     "metadata": {
      "needs_background": "light"
     },
     "output_type": "display_data"
    }
   ],
   "source": [
    "# Chroma_stft\n",
    "chroma_stft=librosa.feature.chroma_stft(y=y, sr=sr,n_chroma=40)\n",
    "plt.figure(figsize=(10,4))\n",
    "librosa.display.specshow(chroma_stft, y_axis='chroma', x_axis='time')\n",
    "plt.colorbar()\n",
    "plt.title('Chromagram-stft')\n",
    "plt.tight_layout()"
   ]
  },
  {
   "cell_type": "code",
   "execution_count": 47,
   "id": "aacc7dc6",
   "metadata": {},
   "outputs": [
    {
     "name": "stderr",
     "output_type": "stream",
     "text": [
      "C:\\Users\\Meltem\\AppData\\Local\\Temp/ipykernel_45872/3240033186.py:2: FutureWarning: Pass y=[-0.   -0.01 -0.   ... -0.   -0.   -0.  ], sr=22050 as keyword args. From version 0.10 passing these as positional arguments will result in an error\n",
      "  mfccs = np.mean(librosa.feature.mfcc(y, sr, n_mfcc=40).T,axis=0)\n"
     ]
    },
    {
     "data": {
      "text/plain": [
       "((40,), (40,), (40,))"
      ]
     },
     "execution_count": 47,
     "metadata": {},
     "output_type": "execute_result"
    }
   ],
   "source": [
    "y,sr=librosa.load(\"C:/Users/Meltem/Desktop/Urban-Sound-Classification-using-CNN-main/Urban-Sound-Classification-using-CNN-main/audio/fold5/100032-3-0-0.wav\")\n",
    "mfccs = np.mean(librosa.feature.mfcc(y, sr, n_mfcc=40).T,axis=0)\n",
    "melspectrogram = np.mean(librosa.feature.melspectrogram(y=y, sr=sr, n_mels=40,fmax=8000).T,axis=0)\n",
    "chroma_stft=np.mean(librosa.feature.chroma_stft(y=y, sr=sr,n_chroma=40).T,axis=0)\n",
    "# tonnetz = np.mean(librosa.feature.tonnetz(y=librosa.effects.harmonic(X),sr=sr).T,axis=0)\n",
    "# melspectrogram.shape,chroma_stft.shape,contrast.shape,tonnetz.shape,mfccs.shape\n",
    "mfccs.shape,melspectrogram.shape,chroma_stft.shape"
   ]
  },
  {
   "cell_type": "code",
   "execution_count": 48,
   "id": "25da9264",
   "metadata": {},
   "outputs": [
    {
     "data": {
      "text/plain": [
       "(40, 3)"
      ]
     },
     "execution_count": 48,
     "metadata": {},
     "output_type": "execute_result"
    }
   ],
   "source": [
    "features=np.reshape(np.vstack((mfccs,melspectrogram,chroma_stft)),(40,3))\n",
    "features.shape"
   ]
  },
  {
   "cell_type": "code",
   "execution_count": 49,
   "id": "6dabc0dc",
   "metadata": {},
   "outputs": [
    {
     "name": "stderr",
     "output_type": "stream",
     "text": [
      " 41%|███████████████████████████████▊                                              | 3555/8732 [05:00<07:03, 12.21it/s]C:\\Users\\Meltem\\anaconda3\\lib\\site-packages\\librosa\\util\\decorators.py:88: UserWarning: n_fft=2048 is too small for input signal of length=1323\n",
      "  return f(*args, **kwargs)\n",
      " 95%|██████████████████████████████████████████████████████████████████████████▎   | 8324/8732 [11:19<00:35, 11.38it/s]C:\\Users\\Meltem\\anaconda3\\lib\\site-packages\\librosa\\util\\decorators.py:88: UserWarning: n_fft=2048 is too small for input signal of length=1103\n",
      "  return f(*args, **kwargs)\n",
      " 95%|██████████████████████████████████████████████████████████████████████████▍   | 8327/8732 [11:19<00:28, 14.45it/s]C:\\Users\\Meltem\\anaconda3\\lib\\site-packages\\librosa\\util\\decorators.py:88: UserWarning: n_fft=2048 is too small for input signal of length=1523\n",
      "  return f(*args, **kwargs)\n",
      "100%|██████████████████████████████████████████████████████████████████████████████| 8732/8732 [11:50<00:00, 12.29it/s]\n"
     ]
    }
   ],
   "source": [
    "x_train=[]\n",
    "x_test=[]\n",
    "y_train=[]\n",
    "y_test=[]\n",
    "\n",
    "path=\"C:/Users/Meltem/Desktop/Urban-Sound-Classification-using-CNN-main/Urban-Sound-Classification-using-CNN-main/audio/fold\"\n",
    "for i in tqdm(range(len(df))):\n",
    "    fold_no=str(df.iloc[i][\"fold\"])\n",
    "    file=df.iloc[i][\"slice_file_name\"]\n",
    "    label=df.iloc[i][\"classID\"]\n",
    "    filename=path+fold_no+\"/\"+file\n",
    "    y,sr=librosa.load(filename)\n",
    "    melspectrogram = np.mean(librosa.feature.melspectrogram(y=y, sr=sr, n_mels=40,fmax=8000).T,axis=0)\n",
    "    features=np.reshape(np.vstack((mfccs,melspectrogram,chroma_stft)),(40,3))\n",
    "    if(fold_no!='10'):\n",
    "      x_train.append(features)\n",
    "      y_train.append(label)\n",
    "    else:\n",
    "      x_test.append(features)\n",
    "      y_test.append(label)"
   ]
  },
  {
   "cell_type": "code",
   "execution_count": 50,
   "id": "d601f180",
   "metadata": {},
   "outputs": [
    {
     "data": {
      "text/plain": [
       "((8732, 40, 3), (8732,))"
      ]
     },
     "execution_count": 50,
     "metadata": {},
     "output_type": "execute_result"
    }
   ],
   "source": [
    "x=x_train+x_test\n",
    "y=y_train+y_test\n",
    "\n",
    "x=np.array(x)\n",
    "y=np.array(y)\n",
    "x.shape,y.shape"
   ]
  },
  {
   "cell_type": "code",
   "execution_count": 51,
   "id": "f32cc896",
   "metadata": {},
   "outputs": [
    {
     "data": {
      "text/plain": [
       "(8732, 120)"
      ]
     },
     "execution_count": 51,
     "metadata": {},
     "output_type": "execute_result"
    }
   ],
   "source": [
    "x_2d=np.reshape(x,(x.shape[0],x.shape[1]*x.shape[2]))\n",
    "x_2d.shape\n",
    "\n",
    "np.savetxt(\"x.csv\", x_2d, delimiter=\",\")\n",
    "np.savetxt(\"y.csv\",y,delimiter=\",\")\n",
    "x_2d.shape"
   ]
  },
  {
   "cell_type": "code",
   "execution_count": 52,
   "id": "020bb57e",
   "metadata": {},
   "outputs": [
    {
     "name": "stdout",
     "output_type": "stream",
     "text": [
      "Test split: 1746 \t\t Train split: 6986\n",
      "X test shape: (1746, 40, 3) \t X train shape: (6986, 40, 3)\n",
      "y test shape: (1746,) \t\t y train shape: (6986,)\n"
     ]
    }
   ],
   "source": [
    "ndexes = []\n",
    "total = len(df)\n",
    "indexes = list(range(0, total))\n",
    "\n",
    "\n",
    "random.shuffle(indexes)\n",
    "\n",
    "test_split_pct = 20\n",
    "split_offset = math.floor(test_split_pct * total / 100)\n",
    "\n",
    "test_split_idx = indexes[0:split_offset]\n",
    "train_split_idx = indexes[split_offset:total]\n",
    "\n",
    "\n",
    "X_test = np.take(x, test_split_idx, axis=0)\n",
    "y_test = np.take(y, test_split_idx, axis=0)\n",
    "X_train = np.take(x, train_split_idx, axis=0)\n",
    "y_train = np.take(y, train_split_idx, axis=0)\n",
    "\n",
    "test = df.iloc[test_split_idx]\n",
    "train = df.iloc[train_split_idx]\n",
    "\n",
    "print(\"Test split: {} \\t\\t Train split: {}\".format(len(test), len(train)))\n",
    "print(\"X test shape: {} \\t X train shape: {}\".format(X_test.shape, X_train.shape))\n",
    "print(\"y test shape: {} \\t\\t y train shape: {}\".format(y_test.shape, y_train.shape))"
   ]
  },
  {
   "cell_type": "code",
   "execution_count": 53,
   "id": "a66ec473",
   "metadata": {},
   "outputs": [
    {
     "data": {
      "text/plain": [
       "((6986, 10), (1746, 10))"
      ]
     },
     "execution_count": 53,
     "metadata": {},
     "output_type": "execute_result"
    }
   ],
   "source": [
    "from keras.utils.np_utils import to_categorical\n",
    "y_train = to_categorical(y_train, num_classes=10)\n",
    "y_test = to_categorical(y_test, num_classes=10)\n",
    "y_train.shape,y_test.shape"
   ]
  },
  {
   "cell_type": "code",
   "execution_count": 54,
   "id": "c5587981",
   "metadata": {},
   "outputs": [
    {
     "data": {
      "text/plain": [
       "((6986, 40, 3), (1746, 40, 3))"
      ]
     },
     "execution_count": 54,
     "metadata": {},
     "output_type": "execute_result"
    }
   ],
   "source": [
    "X_train=np.reshape(X_train,(X_train.shape[0], 40,3))\n",
    "X_test=np.reshape(X_test,(X_test.shape[0], 40,3))\n",
    "X_train.shape,X_test.shape"
   ]
  },
  {
   "cell_type": "code",
   "execution_count": 55,
   "id": "156a7336",
   "metadata": {},
   "outputs": [
    {
     "data": {
      "text/plain": [
       "((6986, 40, 3, 1), (1746, 40, 3, 1))"
      ]
     },
     "execution_count": 55,
     "metadata": {},
     "output_type": "execute_result"
    }
   ],
   "source": [
    "X_train=np.reshape(X_train,(X_train.shape[0], 40,3,1))\n",
    "X_test=np.reshape(X_test,(X_test.shape[0], 40,3,1))\n",
    "X_train.shape,X_test.shape"
   ]
  },
  {
   "cell_type": "code",
   "execution_count": 108,
   "id": "9b1ad3a2",
   "metadata": {},
   "outputs": [
    {
     "name": "stdout",
     "output_type": "stream",
     "text": [
      "Epoch 1/100\n",
      "195/195 [==============================] - 3s 14ms/step - loss: 2.2339 - accuracy: 0.1910 - val_loss: 2.0557 - val_accuracy: 0.2824\n",
      "Epoch 2/100\n",
      "195/195 [==============================] - 3s 15ms/step - loss: 1.9942 - accuracy: 0.2934 - val_loss: 1.8066 - val_accuracy: 0.3465\n",
      "Epoch 3/100\n",
      "195/195 [==============================] - 3s 14ms/step - loss: 1.8180 - accuracy: 0.3619 - val_loss: 1.6445 - val_accuracy: 0.4244\n",
      "Epoch 4/100\n",
      "195/195 [==============================] - 3s 14ms/step - loss: 1.6997 - accuracy: 0.4038 - val_loss: 1.6047 - val_accuracy: 0.4422\n",
      "Epoch 5/100\n",
      "195/195 [==============================] - 3s 15ms/step - loss: 1.6450 - accuracy: 0.4270 - val_loss: 1.5193 - val_accuracy: 0.4805\n",
      "Epoch 6/100\n",
      "195/195 [==============================] - 3s 14ms/step - loss: 1.6001 - accuracy: 0.4450 - val_loss: 1.5121 - val_accuracy: 0.4748\n",
      "Epoch 7/100\n",
      "195/195 [==============================] - 3s 14ms/step - loss: 1.5531 - accuracy: 0.4595 - val_loss: 1.4155 - val_accuracy: 0.5063\n",
      "Epoch 8/100\n",
      "195/195 [==============================] - 3s 14ms/step - loss: 1.4989 - accuracy: 0.4754 - val_loss: 1.4516 - val_accuracy: 0.4874\n",
      "Epoch 9/100\n",
      "195/195 [==============================] - 3s 14ms/step - loss: 1.4588 - accuracy: 0.4901 - val_loss: 1.3555 - val_accuracy: 0.5292\n",
      "Epoch 10/100\n",
      "195/195 [==============================] - 3s 15ms/step - loss: 1.4019 - accuracy: 0.5173 - val_loss: 1.3412 - val_accuracy: 0.5361\n",
      "Epoch 11/100\n",
      "195/195 [==============================] - 3s 15ms/step - loss: 1.3776 - accuracy: 0.5166 - val_loss: 1.2676 - val_accuracy: 0.5693\n",
      "Epoch 12/100\n",
      "195/195 [==============================] - 3s 15ms/step - loss: 1.3591 - accuracy: 0.5219 - val_loss: 1.2471 - val_accuracy: 0.5664\n",
      "Epoch 13/100\n",
      "195/195 [==============================] - 3s 15ms/step - loss: 1.3322 - accuracy: 0.5411 - val_loss: 1.2228 - val_accuracy: 0.5916\n",
      "Epoch 14/100\n",
      "195/195 [==============================] - 3s 14ms/step - loss: 1.3017 - accuracy: 0.5481 - val_loss: 1.1700 - val_accuracy: 0.6002\n",
      "Epoch 15/100\n",
      "195/195 [==============================] - 3s 15ms/step - loss: 1.2463 - accuracy: 0.5671 - val_loss: 1.1598 - val_accuracy: 0.6134\n",
      "Epoch 16/100\n",
      "195/195 [==============================] - 3s 14ms/step - loss: 1.2166 - accuracy: 0.5754 - val_loss: 1.1645 - val_accuracy: 0.5928\n",
      "Epoch 17/100\n",
      "195/195 [==============================] - 3s 14ms/step - loss: 1.1931 - accuracy: 0.5885 - val_loss: 1.0882 - val_accuracy: 0.6289\n",
      "Epoch 18/100\n",
      "195/195 [==============================] - 3s 14ms/step - loss: 1.2080 - accuracy: 0.5849 - val_loss: 1.1120 - val_accuracy: 0.6289\n",
      "Epoch 19/100\n",
      "195/195 [==============================] - 3s 14ms/step - loss: 1.1610 - accuracy: 0.6096 - val_loss: 1.0595 - val_accuracy: 0.6518\n",
      "Epoch 20/100\n",
      "195/195 [==============================] - 3s 14ms/step - loss: 1.1447 - accuracy: 0.6019 - val_loss: 1.0369 - val_accuracy: 0.6523\n",
      "Epoch 21/100\n",
      "195/195 [==============================] - 3s 15ms/step - loss: 1.1119 - accuracy: 0.6171 - val_loss: 1.0477 - val_accuracy: 0.6271\n",
      "Epoch 22/100\n",
      "195/195 [==============================] - 3s 16ms/step - loss: 1.1360 - accuracy: 0.6151 - val_loss: 1.0050 - val_accuracy: 0.6564\n",
      "Epoch 23/100\n",
      "195/195 [==============================] - 3s 15ms/step - loss: 1.0587 - accuracy: 0.6347 - val_loss: 1.0091 - val_accuracy: 0.6724\n",
      "Epoch 24/100\n",
      "195/195 [==============================] - 3s 15ms/step - loss: 1.0794 - accuracy: 0.6303 - val_loss: 0.9747 - val_accuracy: 0.6747\n",
      "Epoch 25/100\n",
      "195/195 [==============================] - 3s 14ms/step - loss: 1.0378 - accuracy: 0.6500 - val_loss: 0.9677 - val_accuracy: 0.6655\n",
      "Epoch 26/100\n",
      "195/195 [==============================] - 3s 14ms/step - loss: 1.0227 - accuracy: 0.6472 - val_loss: 0.9564 - val_accuracy: 0.6707\n",
      "Epoch 27/100\n",
      "195/195 [==============================] - 3s 15ms/step - loss: 1.0074 - accuracy: 0.6496 - val_loss: 1.0181 - val_accuracy: 0.6701\n",
      "Epoch 28/100\n",
      "195/195 [==============================] - 3s 15ms/step - loss: 1.0341 - accuracy: 0.6470 - val_loss: 0.9702 - val_accuracy: 0.6730\n",
      "Epoch 29/100\n",
      "195/195 [==============================] - 3s 15ms/step - loss: 0.9835 - accuracy: 0.6623 - val_loss: 0.9296 - val_accuracy: 0.6890\n",
      "Epoch 30/100\n",
      "195/195 [==============================] - 3s 16ms/step - loss: 0.9806 - accuracy: 0.6701 - val_loss: 0.9392 - val_accuracy: 0.6964\n",
      "Epoch 31/100\n",
      "195/195 [==============================] - 3s 16ms/step - loss: 0.9770 - accuracy: 0.6729 - val_loss: 0.9446 - val_accuracy: 0.6856\n",
      "Epoch 32/100\n",
      "195/195 [==============================] - 3s 16ms/step - loss: 0.9448 - accuracy: 0.6799 - val_loss: 0.9404 - val_accuracy: 0.7027\n",
      "Epoch 33/100\n",
      "195/195 [==============================] - 3s 16ms/step - loss: 0.9585 - accuracy: 0.6732 - val_loss: 0.9048 - val_accuracy: 0.6982\n",
      "Epoch 34/100\n",
      "195/195 [==============================] - 3s 16ms/step - loss: 0.9412 - accuracy: 0.6825 - val_loss: 0.9290 - val_accuracy: 0.6884\n",
      "Epoch 35/100\n",
      "195/195 [==============================] - 3s 15ms/step - loss: 0.9491 - accuracy: 0.6832 - val_loss: 0.9210 - val_accuracy: 0.6930\n",
      "Epoch 36/100\n",
      "195/195 [==============================] - 3s 16ms/step - loss: 0.9487 - accuracy: 0.6768 - val_loss: 0.9128 - val_accuracy: 0.7005\n",
      "Epoch 37/100\n",
      "195/195 [==============================] - 3s 18ms/step - loss: 0.9352 - accuracy: 0.6858 - val_loss: 0.8838 - val_accuracy: 0.7096\n",
      "Epoch 38/100\n",
      "195/195 [==============================] - 3s 16ms/step - loss: 0.8940 - accuracy: 0.6947 - val_loss: 0.8483 - val_accuracy: 0.7274\n",
      "Epoch 39/100\n",
      "195/195 [==============================] - 4s 18ms/step - loss: 0.9024 - accuracy: 0.6945 - val_loss: 0.8878 - val_accuracy: 0.7176\n",
      "Epoch 40/100\n",
      "195/195 [==============================] - 3s 15ms/step - loss: 0.8652 - accuracy: 0.6993 - val_loss: 0.8930 - val_accuracy: 0.7176\n",
      "Epoch 41/100\n",
      "195/195 [==============================] - 3s 16ms/step - loss: 0.8824 - accuracy: 0.7010 - val_loss: 0.8579 - val_accuracy: 0.7142\n",
      "Epoch 42/100\n",
      "195/195 [==============================] - 3s 15ms/step - loss: 0.8483 - accuracy: 0.7087 - val_loss: 0.8919 - val_accuracy: 0.7245\n",
      "Epoch 43/100\n",
      "195/195 [==============================] - 3s 16ms/step - loss: 0.8904 - accuracy: 0.6922 - val_loss: 0.9059 - val_accuracy: 0.7182\n",
      "Epoch 44/100\n",
      "195/195 [==============================] - 3s 15ms/step - loss: 0.8443 - accuracy: 0.7129 - val_loss: 0.8858 - val_accuracy: 0.7194\n",
      "Epoch 45/100\n",
      "195/195 [==============================] - 3s 15ms/step - loss: 0.8295 - accuracy: 0.7137 - val_loss: 0.9309 - val_accuracy: 0.7096\n",
      "Epoch 46/100\n",
      "195/195 [==============================] - 3s 16ms/step - loss: 0.8469 - accuracy: 0.7116 - val_loss: 0.8755 - val_accuracy: 0.7377\n",
      "Epoch 47/100\n",
      "195/195 [==============================] - 3s 16ms/step - loss: 0.8308 - accuracy: 0.7160 - val_loss: 0.9123 - val_accuracy: 0.7153\n",
      "Epoch 48/100\n",
      "195/195 [==============================] - 3s 18ms/step - loss: 0.8438 - accuracy: 0.7037 - val_loss: 0.8890 - val_accuracy: 0.7348\n",
      "Epoch 49/100\n",
      "195/195 [==============================] - 4s 18ms/step - loss: 0.8158 - accuracy: 0.7197 - val_loss: 0.8838 - val_accuracy: 0.7211\n",
      "Epoch 50/100\n",
      "195/195 [==============================] - 3s 18ms/step - loss: 0.8043 - accuracy: 0.7153 - val_loss: 0.8705 - val_accuracy: 0.7331\n",
      "Epoch 51/100\n",
      "195/195 [==============================] - 4s 20ms/step - loss: 0.7896 - accuracy: 0.7313 - val_loss: 0.8433 - val_accuracy: 0.7400\n",
      "Epoch 52/100\n",
      "195/195 [==============================] - 4s 21ms/step - loss: 0.7835 - accuracy: 0.7310 - val_loss: 0.8276 - val_accuracy: 0.7383\n",
      "Epoch 53/100\n",
      "195/195 [==============================] - 4s 20ms/step - loss: 0.7813 - accuracy: 0.7306 - val_loss: 0.8991 - val_accuracy: 0.7205\n",
      "Epoch 54/100\n",
      "195/195 [==============================] - 3s 18ms/step - loss: 0.7967 - accuracy: 0.7279 - val_loss: 0.8569 - val_accuracy: 0.7383\n",
      "Epoch 55/100\n",
      "195/195 [==============================] - 3s 17ms/step - loss: 0.7644 - accuracy: 0.7413 - val_loss: 0.8478 - val_accuracy: 0.7446\n",
      "Epoch 56/100\n",
      "195/195 [==============================] - 4s 20ms/step - loss: 0.7746 - accuracy: 0.7349 - val_loss: 0.8497 - val_accuracy: 0.7451\n",
      "Epoch 57/100\n"
     ]
    },
    {
     "name": "stdout",
     "output_type": "stream",
     "text": [
      "195/195 [==============================] - 3s 18ms/step - loss: 0.7638 - accuracy: 0.7378 - val_loss: 0.8193 - val_accuracy: 0.7560\n",
      "Epoch 58/100\n",
      "195/195 [==============================] - 3s 14ms/step - loss: 0.7356 - accuracy: 0.7455 - val_loss: 0.8129 - val_accuracy: 0.7468\n",
      "Epoch 59/100\n",
      "195/195 [==============================] - 3s 15ms/step - loss: 0.7521 - accuracy: 0.7443 - val_loss: 0.8053 - val_accuracy: 0.7463\n",
      "Epoch 60/100\n",
      "195/195 [==============================] - 3s 15ms/step - loss: 0.7333 - accuracy: 0.7519 - val_loss: 0.7989 - val_accuracy: 0.7514\n",
      "Epoch 61/100\n",
      "195/195 [==============================] - 3s 14ms/step - loss: 0.7346 - accuracy: 0.7492 - val_loss: 0.8314 - val_accuracy: 0.7463\n",
      "Epoch 62/100\n",
      "195/195 [==============================] - 3s 14ms/step - loss: 0.7235 - accuracy: 0.7534 - val_loss: 0.8409 - val_accuracy: 0.7520\n",
      "Epoch 63/100\n",
      "195/195 [==============================] - 3s 14ms/step - loss: 0.7255 - accuracy: 0.7463 - val_loss: 0.8276 - val_accuracy: 0.7428\n",
      "Epoch 64/100\n",
      "195/195 [==============================] - 3s 14ms/step - loss: 0.7269 - accuracy: 0.7484 - val_loss: 0.8362 - val_accuracy: 0.7595\n",
      "Epoch 65/100\n",
      "195/195 [==============================] - 3s 14ms/step - loss: 0.7412 - accuracy: 0.7529 - val_loss: 0.8522 - val_accuracy: 0.7451\n",
      "Epoch 66/100\n",
      "195/195 [==============================] - 3s 15ms/step - loss: 0.6793 - accuracy: 0.7662 - val_loss: 0.8258 - val_accuracy: 0.7468\n",
      "Epoch 67/100\n",
      "195/195 [==============================] - 3s 17ms/step - loss: 0.7107 - accuracy: 0.7581 - val_loss: 0.8419 - val_accuracy: 0.7543\n",
      "Epoch 68/100\n",
      "195/195 [==============================] - 3s 17ms/step - loss: 0.6943 - accuracy: 0.7638 - val_loss: 0.8566 - val_accuracy: 0.7583\n",
      "Epoch 69/100\n",
      "195/195 [==============================] - 3s 17ms/step - loss: 0.7327 - accuracy: 0.7492 - val_loss: 0.8131 - val_accuracy: 0.7560\n",
      "Epoch 70/100\n",
      "195/195 [==============================] - 3s 16ms/step - loss: 0.7020 - accuracy: 0.7642 - val_loss: 0.8035 - val_accuracy: 0.7503\n",
      "Epoch 71/100\n",
      "195/195 [==============================] - 3s 15ms/step - loss: 0.7409 - accuracy: 0.7518 - val_loss: 0.8295 - val_accuracy: 0.7405\n",
      "Epoch 72/100\n",
      "195/195 [==============================] - 3s 14ms/step - loss: 0.7316 - accuracy: 0.7496 - val_loss: 0.8723 - val_accuracy: 0.7532\n",
      "Epoch 73/100\n",
      "195/195 [==============================] - 3s 16ms/step - loss: 0.7109 - accuracy: 0.7599 - val_loss: 0.8604 - val_accuracy: 0.7365\n",
      "Epoch 74/100\n",
      "195/195 [==============================] - 3s 14ms/step - loss: 0.6988 - accuracy: 0.7568 - val_loss: 0.8122 - val_accuracy: 0.7617\n",
      "Epoch 75/100\n",
      "195/195 [==============================] - 3s 14ms/step - loss: 0.6997 - accuracy: 0.7647 - val_loss: 0.8200 - val_accuracy: 0.7600\n",
      "Epoch 76/100\n",
      "195/195 [==============================] - 3s 14ms/step - loss: 0.6812 - accuracy: 0.7651 - val_loss: 0.8499 - val_accuracy: 0.7537\n",
      "Epoch 77/100\n",
      "195/195 [==============================] - 3s 14ms/step - loss: 0.6867 - accuracy: 0.7701 - val_loss: 0.8743 - val_accuracy: 0.7463\n",
      "Epoch 78/100\n",
      "195/195 [==============================] - 3s 14ms/step - loss: 0.6823 - accuracy: 0.7651 - val_loss: 0.8209 - val_accuracy: 0.7520\n",
      "Epoch 79/100\n",
      "195/195 [==============================] - 3s 14ms/step - loss: 0.6552 - accuracy: 0.7747 - val_loss: 0.8179 - val_accuracy: 0.7623\n",
      "Epoch 80/100\n",
      "195/195 [==============================] - 3s 14ms/step - loss: 0.6772 - accuracy: 0.7708 - val_loss: 0.8323 - val_accuracy: 0.7560\n",
      "Epoch 81/100\n",
      "195/195 [==============================] - 3s 14ms/step - loss: 0.6704 - accuracy: 0.7707 - val_loss: 0.8016 - val_accuracy: 0.7629\n",
      "Epoch 82/100\n",
      "195/195 [==============================] - 3s 15ms/step - loss: 0.6377 - accuracy: 0.7794 - val_loss: 0.8138 - val_accuracy: 0.7514\n",
      "Epoch 83/100\n",
      "195/195 [==============================] - 3s 16ms/step - loss: 0.6953 - accuracy: 0.7662 - val_loss: 0.7768 - val_accuracy: 0.7617\n",
      "Epoch 84/100\n",
      "195/195 [==============================] - 3s 16ms/step - loss: 0.6855 - accuracy: 0.7674 - val_loss: 0.8297 - val_accuracy: 0.7560\n",
      "Epoch 85/100\n",
      "195/195 [==============================] - 3s 16ms/step - loss: 0.6397 - accuracy: 0.7751 - val_loss: 0.8065 - val_accuracy: 0.7715\n",
      "Epoch 86/100\n",
      "195/195 [==============================] - 3s 14ms/step - loss: 0.6504 - accuracy: 0.7800 - val_loss: 0.8118 - val_accuracy: 0.7577\n",
      "Epoch 87/100\n",
      "195/195 [==============================] - 3s 14ms/step - loss: 0.6451 - accuracy: 0.7781 - val_loss: 0.8836 - val_accuracy: 0.7526\n",
      "Epoch 88/100\n",
      "195/195 [==============================] - 3s 14ms/step - loss: 0.6633 - accuracy: 0.7760 - val_loss: 0.7631 - val_accuracy: 0.7703\n",
      "Epoch 89/100\n",
      "195/195 [==============================] - 3s 14ms/step - loss: 0.6529 - accuracy: 0.7806 - val_loss: 0.8104 - val_accuracy: 0.7658\n",
      "Epoch 90/100\n",
      "195/195 [==============================] - 3s 15ms/step - loss: 0.6456 - accuracy: 0.7737 - val_loss: 0.8136 - val_accuracy: 0.7652\n",
      "Epoch 91/100\n",
      "195/195 [==============================] - 3s 16ms/step - loss: 0.6390 - accuracy: 0.7786 - val_loss: 0.8014 - val_accuracy: 0.7600\n",
      "Epoch 92/100\n",
      "195/195 [==============================] - 3s 15ms/step - loss: 0.6651 - accuracy: 0.7817 - val_loss: 0.7870 - val_accuracy: 0.7692\n",
      "Epoch 93/100\n",
      "195/195 [==============================] - 3s 16ms/step - loss: 0.6322 - accuracy: 0.7839 - val_loss: 0.7908 - val_accuracy: 0.7652\n",
      "Epoch 94/100\n",
      "195/195 [==============================] - 3s 14ms/step - loss: 0.6487 - accuracy: 0.7801 - val_loss: 0.8237 - val_accuracy: 0.7623\n",
      "Epoch 95/100\n",
      "195/195 [==============================] - 3s 16ms/step - loss: 0.6436 - accuracy: 0.7891 - val_loss: 0.7828 - val_accuracy: 0.7680\n",
      "Epoch 96/100\n",
      "195/195 [==============================] - 3s 15ms/step - loss: 0.6200 - accuracy: 0.7899 - val_loss: 0.8104 - val_accuracy: 0.7589\n",
      "Epoch 97/100\n",
      "195/195 [==============================] - 3s 15ms/step - loss: 0.6226 - accuracy: 0.7906 - val_loss: 0.7974 - val_accuracy: 0.7663\n",
      "Epoch 98/100\n",
      "195/195 [==============================] - 3s 16ms/step - loss: 0.6032 - accuracy: 0.7949 - val_loss: 0.7861 - val_accuracy: 0.7686\n",
      "Epoch 99/100\n",
      "195/195 [==============================] - 3s 15ms/step - loss: 0.6435 - accuracy: 0.7933 - val_loss: 0.8000 - val_accuracy: 0.7663\n",
      "Epoch 100/100\n",
      "195/195 [==============================] - 3s 16ms/step - loss: 0.6594 - accuracy: 0.7786 - val_loss: 0.8042 - val_accuracy: 0.7738\n"
     ]
    }
   ],
   "source": [
    "from keras import Sequential\n",
    "from keras.layers import Dense,Conv2D,MaxPooling2D,Flatten,Dropout\n",
    "\n",
    "model=Sequential()\n",
    "model.add(Conv2D(64,kernel_size=3,strides=1,padding=\"Same\",activation=\"relu\",input_shape=(40,3,1)))\n",
    "model.add(MaxPooling2D(padding=\"same\"))\n",
    "model.add(Conv2D(128,kernel_size=3,strides=1,padding=\"same\",activation=\"relu\"))\n",
    "model.add(MaxPooling2D(padding=\"same\"))\n",
    "model.add(Dropout(0.3))\n",
    "model.add(Flatten())\n",
    "model.add(Dense(256,activation=\"relu\"))\n",
    "model.add(Dropout(0.3))\n",
    "model.add(Dense(512,activation=\"relu\"))\n",
    "model.add(Dropout(0.3))\n",
    "model.add(Flatten())\n",
    "model.add(Dense(1024,activation=\"relu\"))\n",
    "model.add(Dropout(0.3))\n",
    "model.add(Dense(10,activation=\"softmax\"))\n",
    "model.compile(optimizer=\"adam\",loss=\"categorical_crossentropy\",metrics=[\"accuracy\"])\n",
    "\n",
    "history_relu=model.fit(X_train,y_train,batch_size=36,epochs=100,validation_data=(X_test,y_test))"
   ]
  },
  {
   "cell_type": "code",
   "execution_count": 109,
   "id": "1d9d12b0",
   "metadata": {},
   "outputs": [
    {
     "name": "stdout",
     "output_type": "stream",
     "text": [
      "219/219 [==============================] - 1s 4ms/step - loss: 0.3514 - accuracy: 0.8861\n",
      "55/55 [==============================] - 0s 4ms/step - loss: 0.8042 - accuracy: 0.7738\n",
      "[0.351413756608963, 0.8860578536987305]\n",
      "[0.8042412996292114, 0.7737686038017273]\n"
     ]
    }
   ],
   "source": [
    "train_loss_score=model.evaluate(X_train,y_train)\n",
    "test_loss_score=model.evaluate(X_test,y_test)\n",
    "print(train_loss_score)\n",
    "print(test_loss_score)"
   ]
  },
  {
   "cell_type": "code",
   "execution_count": 110,
   "id": "65c43c99",
   "metadata": {},
   "outputs": [
    {
     "name": "stderr",
     "output_type": "stream",
     "text": [
      "C:\\Users\\Meltem\\AppData\\Local\\Temp/ipykernel_45872/1832282416.py:6: SettingWithCopyWarning: \n",
      "A value is trying to be set on a copy of a slice from a DataFrame.\n",
      "Try using .loc[row_indexer,col_indexer] = value instead\n",
      "\n",
      "See the caveats in the documentation: https://pandas.pydata.org/pandas-docs/stable/user_guide/indexing.html#returning-a-view-versus-a-copy\n",
      "  test['pred'] = yhat_probs\n"
     ]
    }
   ],
   "source": [
    "y_probs = model.predict(X_test)\n",
    "\n",
    "yhat_probs = np.argmax(y_probs, axis=1)\n",
    "y_trues = np.argmax(y_test, axis=1)\n",
    "\n",
    "test['pred'] = yhat_probs"
   ]
  },
  {
   "cell_type": "code",
   "execution_count": 111,
   "id": "3b0c6182",
   "metadata": {},
   "outputs": [
    {
     "name": "stdout",
     "output_type": "stream",
     "text": [
      "                  precision    recall  f1-score   support\n",
      "\n",
      " Air Conditioner       0.80      0.88      0.83       200\n",
      "        Car Horn       0.84      0.74      0.79        90\n",
      "Children Playing       0.60      0.63      0.62       208\n",
      "        Dog bark       0.77      0.64      0.70       192\n",
      "        Drilling       0.86      0.82      0.84       202\n",
      "   Engine Idling       0.79      0.91      0.84       177\n",
      "        Gun Shot       0.76      0.68      0.72        62\n",
      "      Jackhammer       0.90      0.94      0.92       197\n",
      "           Siren       0.74      0.86      0.79       210\n",
      "    Street Music       0.72      0.58      0.65       208\n",
      "\n",
      "        accuracy                           0.77      1746\n",
      "       macro avg       0.78      0.77      0.77      1746\n",
      "    weighted avg       0.77      0.77      0.77      1746\n",
      "\n"
     ]
    }
   ],
   "source": [
    "np.set_printoptions(precision=2)\n",
    "\n",
    "cm = confusion_matrix(y_trues, yhat_probs)\n",
    "labels = [\n",
    "        'Air Conditioner',\n",
    "        'Car Horn',\n",
    "        'Children Playing',\n",
    "        'Dog bark',\n",
    "        'Drilling',\n",
    "        'Engine Idling',\n",
    "        'Gun Shot',\n",
    "        'Jackhammer',\n",
    "        'Siren',\n",
    "        'Street Music'\n",
    "    ]\n",
    "\n",
    "re = classification_report(y_trues, yhat_probs, labels=[0,1,2,3,4,5,6,7,8,9], target_names=labels)\n",
    "\n",
    "print(re)"
   ]
  },
  {
   "cell_type": "code",
   "execution_count": 112,
   "id": "c26fe546",
   "metadata": {},
   "outputs": [
    {
     "data": {
      "image/png": "[encoded data removed]",
      "text/plain": [
       "<Figure size 1440x1080 with 2 Axes>"
      ]
     },
     "metadata": {
      "needs_background": "light"
     },
     "output_type": "display_data"
    }
   ],
   "source": [
    "from sklearn.metrics import confusion_matrix\n",
    "import seaborn as sns\n",
    "# Creating a dataframe for a array-formatted Confusion matrix,so it will be easy for plotting.\n",
    "cm_df = pd.DataFrame(cm,\n",
    "                     index = ['Air Conditioner',\n",
    "        'Car Horn',\n",
    "        'Children Playing',\n",
    "        'Dog bark',\n",
    "        'Drilling',\n",
    "        'Engine Idling',\n",
    "        'Gun Shot',\n",
    "        'Jackhammer',\n",
    "        'Siren',\n",
    "        'Street Music'], \n",
    "                     columns = ['Air Conditioner',\n",
    "        'Car Horn',\n",
    "        'Children Playing',\n",
    "        'Dog bark',\n",
    "        'Drilling',\n",
    "        'Engine Idling',\n",
    "        'Gun Shot',\n",
    "        'Jackhammer',\n",
    "        'Siren',\n",
    "        'Street Music'])\n",
    "\n",
    "#Plotting the confusion matrix\n",
    "plt.rcParams.update({'font.size': 10})\n",
    "plt.figure(figsize=(20,15))\n",
    "sns.heatmap(cm_df, annot=True)\n",
    "plt.title('Confusion Matrix')\n",
    "plt.ylabel('Actal Values')\n",
    "plt.xlabel('Predicted Values')\n",
    "plt.tight_layout()\n",
    "plt.savefig('confusion_matrix.png')\n",
    "plt.show()"
   ]
  },
  {
   "cell_type": "code",
   "execution_count": 113,
   "id": "b6b3aa6b",
   "metadata": {},
   "outputs": [
    {
     "data": {
      "image/png": "[encoded data removed]",
      "text/plain": [
       "<Figure size 432x288 with 1 Axes>"
      ]
     },
     "metadata": {
      "needs_background": "light"
     },
     "output_type": "display_data"
    }
   ],
   "source": [
    "metrics = history_relu.history\n",
    "plt.plot(history_relu.epoch, metrics['loss'], metrics['val_loss'])\n",
    "plt.legend(['train_loss', 'test_loss'])\n",
    "plt.xlabel('Epoch')\n",
    "plt.ylabel('Loss')\n",
    "plt.show()"
   ]
  },
  {
   "cell_type": "code",
   "execution_count": 114,
   "id": "270e956b",
   "metadata": {},
   "outputs": [
    {
     "data": {
      "image/png": "[encoded data removed]",
      "text/plain": [
       "<Figure size 432x288 with 1 Axes>"
      ]
     },
     "metadata": {
      "needs_background": "light"
     },
     "output_type": "display_data"
    }
   ],
   "source": [
    "plt.plot(history_relu.history['accuracy'], label='train_accuracy')\n",
    "plt.plot(history_relu.history['val_accuracy'], label='test_accuracy')\n",
    "plt.xlabel('Epoch')\n",
    "plt.ylabel('Accuracy')\n",
    "plt.legend()\n",
    "plt.grid(True)"
   ]
  },
  {
   "cell_type": "code",
   "execution_count": null,
   "id": "739e8eed",
   "metadata": {},
   "outputs": [],
   "source": []
  }
 ],
 "metadata": {
  "kernelspec": {
   "display_name": "Python 3 (ipykernel)",
   "language": "python",
   "name": "python3"
  },
  "language_info": {
   "codemirror_mode": {
    "name": "ipython",
    "version": 3
   },
   "file_extension": ".py",
   "mimetype": "text/x-python",
   "name": "python",
   "nbconvert_exporter": "python",
   "pygments_lexer": "ipython3",
   "version": "3.9.7"
  }
 },
 "nbformat": 4,
 "nbformat_minor": 5
}
