{
 "cells": [
  {
   "cell_type": "markdown",
   "id": "f44d788e",
   "metadata": {},
   "source": [
    "# Dataset Information"
   ]
  },
  {
   "cell_type": "markdown",
   "id": "f4ad79ea",
   "metadata": {},
   "source": [
    "###  This datasets contains 8732 labeled sounds of Urban Sounds from 10 classes:\n",
    "\n",
    "0 = air_conditioner\n",
    "\n",
    "1 = car_horn\n",
    "\n",
    "2 = children_playing\n",
    "\n",
    "3 = dog_bark\n",
    "\n",
    "4 = drilling\n",
    "\n",
    "5 = engine_idling\n",
    "\n",
    "6 = gun_shot\n",
    "\n",
    "7 = jackhammer\n",
    "\n",
    "8 = siren\n",
    "\n",
    "9 = street_music"
   ]
  },
  {
   "cell_type": "code",
   "execution_count": 136,
   "id": "1230bb6b",
   "metadata": {},
   "outputs": [],
   "source": [
    "# Imports\n",
    "import pandas as pd\n",
    "import numpy as np\n",
    "import matplotlib.pyplot as plt\n",
    "%matplotlib inline\n",
    "import seaborn as sns\n",
    "import os\n",
    "import sys\n",
    "from tqdm import tqdm\n",
    "import IPython\n",
    "import math\n",
    "import pickle\n",
    "import random\n",
    "from datetime import datetime\n",
    "import os\n",
    "import librosa\n",
    "import librosa.display\n",
    "import glob \n",
    "import skimage"
   ]
  },
  {
   "cell_type": "code",
   "execution_count": 137,
   "id": "8505dde6",
   "metadata": {},
   "outputs": [],
   "source": [
    "from keras import backend as keras_backend\n",
    "from keras.models import Sequential, load_model\n",
    "from keras.layers import Dense, SpatialDropout2D, Activation, Conv2D, MaxPooling2D, BatchNormalization, GlobalAveragePooling2D, LeakyReLU\n",
    "from tensorflow.keras.optimizers import Adam\n",
    "\n",
    "from tensorflow.keras.optimizers import Adam\n",
    "\n",
    "from tensorflow.keras.utils import to_categorical\n",
    "from keras.callbacks import ModelCheckpoint \n",
    "from keras.regularizers import l2\n",
    "\n",
    "from sklearn.preprocessing import LabelEncoder\n",
    "from sklearn.metrics import classification_report, confusion_matrix"
   ]
  },
  {
   "cell_type": "code",
   "execution_count": 138,
   "id": "8d1d7fb4",
   "metadata": {},
   "outputs": [
    {
     "data": {
      "text/plain": [
       "(8732, 8)"
      ]
     },
     "execution_count": 138,
     "metadata": {},
     "output_type": "execute_result"
    }
   ],
   "source": [
    "df = pd.read_csv(\"C:/Users/Meltem/Desktop/Urban-Sound-Classification-using-CNN-main/Urban-Sound-Classification-using-CNN-main/metadata/UrbanSound8K.csv\")\n",
    "df.shape"
   ]
  },
  {
   "cell_type": "code",
   "execution_count": 139,
   "id": "34248377",
   "metadata": {},
   "outputs": [
    {
     "data": {
      "text/html": [
       "<div>\n",
       "<style scoped>\n",
       "    .dataframe tbody tr th:only-of-type {\n",
       "        vertical-align: middle;\n",
       "    }\n",
       "\n",
       "    .dataframe tbody tr th {\n",
       "        vertical-align: top;\n",
       "    }\n",
       "\n",
       "    .dataframe thead th {\n",
       "        text-align: right;\n",
       "    }\n",
       "</style>\n",
       "<table border=\"1\" class=\"dataframe\">\n",
       "  <thead>\n",
       "    <tr style=\"text-align: right;\">\n",
       "      <th></th>\n",
       "      <th>slice_file_name</th>\n",
       "      <th>fsID</th>\n",
       "      <th>start</th>\n",
       "      <th>end</th>\n",
       "      <th>salience</th>\n",
       "      <th>fold</th>\n",
       "      <th>classID</th>\n",
       "      <th>class</th>\n",
       "    </tr>\n",
       "  </thead>\n",
       "  <tbody>\n",
       "    <tr>\n",
       "      <th>0</th>\n",
       "      <td>100032-3-0-0.wav</td>\n",
       "      <td>100032</td>\n",
       "      <td>0.0</td>\n",
       "      <td>0.317551</td>\n",
       "      <td>1</td>\n",
       "      <td>5</td>\n",
       "      <td>3</td>\n",
       "      <td>dog_bark</td>\n",
       "    </tr>\n",
       "    <tr>\n",
       "      <th>1</th>\n",
       "      <td>100263-2-0-117.wav</td>\n",
       "      <td>100263</td>\n",
       "      <td>58.5</td>\n",
       "      <td>62.500000</td>\n",
       "      <td>1</td>\n",
       "      <td>5</td>\n",
       "      <td>2</td>\n",
       "      <td>children_playing</td>\n",
       "    </tr>\n",
       "    <tr>\n",
       "      <th>2</th>\n",
       "      <td>100263-2-0-121.wav</td>\n",
       "      <td>100263</td>\n",
       "      <td>60.5</td>\n",
       "      <td>64.500000</td>\n",
       "      <td>1</td>\n",
       "      <td>5</td>\n",
       "      <td>2</td>\n",
       "      <td>children_playing</td>\n",
       "    </tr>\n",
       "    <tr>\n",
       "      <th>3</th>\n",
       "      <td>100263-2-0-126.wav</td>\n",
       "      <td>100263</td>\n",
       "      <td>63.0</td>\n",
       "      <td>67.000000</td>\n",
       "      <td>1</td>\n",
       "      <td>5</td>\n",
       "      <td>2</td>\n",
       "      <td>children_playing</td>\n",
       "    </tr>\n",
       "    <tr>\n",
       "      <th>4</th>\n",
       "      <td>100263-2-0-137.wav</td>\n",
       "      <td>100263</td>\n",
       "      <td>68.5</td>\n",
       "      <td>72.500000</td>\n",
       "      <td>1</td>\n",
       "      <td>5</td>\n",
       "      <td>2</td>\n",
       "      <td>children_playing</td>\n",
       "    </tr>\n",
       "  </tbody>\n",
       "</table>\n",
       "</div>"
      ],
      "text/plain": [
       "      slice_file_name    fsID  start        end  salience  fold  classID  \\\n",
       "0    100032-3-0-0.wav  100032    0.0   0.317551         1     5        3   \n",
       "1  100263-2-0-117.wav  100263   58.5  62.500000         1     5        2   \n",
       "2  100263-2-0-121.wav  100263   60.5  64.500000         1     5        2   \n",
       "3  100263-2-0-126.wav  100263   63.0  67.000000         1     5        2   \n",
       "4  100263-2-0-137.wav  100263   68.5  72.500000         1     5        2   \n",
       "\n",
       "              class  \n",
       "0          dog_bark  \n",
       "1  children_playing  \n",
       "2  children_playing  \n",
       "3  children_playing  \n",
       "4  children_playing  "
      ]
     },
     "execution_count": 139,
     "metadata": {},
     "output_type": "execute_result"
    }
   ],
   "source": [
    "df.head()"
   ]
  },
  {
   "cell_type": "code",
   "execution_count": 140,
   "id": "b456a102",
   "metadata": {},
   "outputs": [
    {
     "data": {
      "text/html": [
       "<div>\n",
       "<style scoped>\n",
       "    .dataframe tbody tr th:only-of-type {\n",
       "        vertical-align: middle;\n",
       "    }\n",
       "\n",
       "    .dataframe tbody tr th {\n",
       "        vertical-align: top;\n",
       "    }\n",
       "\n",
       "    .dataframe thead th {\n",
       "        text-align: right;\n",
       "    }\n",
       "</style>\n",
       "<table border=\"1\" class=\"dataframe\">\n",
       "  <thead>\n",
       "    <tr style=\"text-align: right;\">\n",
       "      <th></th>\n",
       "      <th>count</th>\n",
       "      <th>mean</th>\n",
       "      <th>std</th>\n",
       "      <th>min</th>\n",
       "      <th>25%</th>\n",
       "      <th>50%</th>\n",
       "      <th>75%</th>\n",
       "      <th>max</th>\n",
       "    </tr>\n",
       "  </thead>\n",
       "  <tbody>\n",
       "    <tr>\n",
       "      <th>fsID</th>\n",
       "      <td>8732.0</td>\n",
       "      <td>116033.493816</td>\n",
       "      <td>57991.017218</td>\n",
       "      <td>344.000000</td>\n",
       "      <td>69942.250000</td>\n",
       "      <td>118279.000000</td>\n",
       "      <td>166942.000000</td>\n",
       "      <td>209992.000000</td>\n",
       "    </tr>\n",
       "    <tr>\n",
       "      <th>start</th>\n",
       "      <td>8732.0</td>\n",
       "      <td>38.645409</td>\n",
       "      <td>74.292126</td>\n",
       "      <td>0.000000</td>\n",
       "      <td>3.000000</td>\n",
       "      <td>10.376492</td>\n",
       "      <td>35.131372</td>\n",
       "      <td>600.125356</td>\n",
       "    </tr>\n",
       "    <tr>\n",
       "      <th>end</th>\n",
       "      <td>8732.0</td>\n",
       "      <td>42.253312</td>\n",
       "      <td>74.369669</td>\n",
       "      <td>0.105962</td>\n",
       "      <td>6.839398</td>\n",
       "      <td>14.000000</td>\n",
       "      <td>38.866979</td>\n",
       "      <td>604.125356</td>\n",
       "    </tr>\n",
       "    <tr>\n",
       "      <th>salience</th>\n",
       "      <td>8732.0</td>\n",
       "      <td>1.347000</td>\n",
       "      <td>0.476043</td>\n",
       "      <td>1.000000</td>\n",
       "      <td>1.000000</td>\n",
       "      <td>1.000000</td>\n",
       "      <td>2.000000</td>\n",
       "      <td>2.000000</td>\n",
       "    </tr>\n",
       "    <tr>\n",
       "      <th>fold</th>\n",
       "      <td>8732.0</td>\n",
       "      <td>5.385937</td>\n",
       "      <td>2.846820</td>\n",
       "      <td>1.000000</td>\n",
       "      <td>3.000000</td>\n",
       "      <td>5.000000</td>\n",
       "      <td>8.000000</td>\n",
       "      <td>10.000000</td>\n",
       "    </tr>\n",
       "    <tr>\n",
       "      <th>classID</th>\n",
       "      <td>8732.0</td>\n",
       "      <td>4.592877</td>\n",
       "      <td>2.894544</td>\n",
       "      <td>0.000000</td>\n",
       "      <td>2.000000</td>\n",
       "      <td>4.000000</td>\n",
       "      <td>7.000000</td>\n",
       "      <td>9.000000</td>\n",
       "    </tr>\n",
       "  </tbody>\n",
       "</table>\n",
       "</div>"
      ],
      "text/plain": [
       "           count           mean           std         min           25%  \\\n",
       "fsID      8732.0  116033.493816  57991.017218  344.000000  69942.250000   \n",
       "start     8732.0      38.645409     74.292126    0.000000      3.000000   \n",
       "end       8732.0      42.253312     74.369669    0.105962      6.839398   \n",
       "salience  8732.0       1.347000      0.476043    1.000000      1.000000   \n",
       "fold      8732.0       5.385937      2.846820    1.000000      3.000000   \n",
       "classID   8732.0       4.592877      2.894544    0.000000      2.000000   \n",
       "\n",
       "                    50%            75%            max  \n",
       "fsID      118279.000000  166942.000000  209992.000000  \n",
       "start         10.376492      35.131372     600.125356  \n",
       "end           14.000000      38.866979     604.125356  \n",
       "salience       1.000000       2.000000       2.000000  \n",
       "fold           5.000000       8.000000      10.000000  \n",
       "classID        4.000000       7.000000       9.000000  "
      ]
     },
     "execution_count": 140,
     "metadata": {},
     "output_type": "execute_result"
    }
   ],
   "source": [
    "df.describe().T"
   ]
  },
  {
   "cell_type": "code",
   "execution_count": 141,
   "id": "ef732110",
   "metadata": {},
   "outputs": [
    {
     "data": {
      "text/plain": [
       "4     990\n",
       "5     936\n",
       "3     925\n",
       "2     888\n",
       "1     873\n",
       "7     838\n",
       "10    837\n",
       "6     823\n",
       "9     816\n",
       "8     806\n",
       "Name: fold, dtype: int64"
      ]
     },
     "execution_count": 141,
     "metadata": {},
     "output_type": "execute_result"
    }
   ],
   "source": [
    "df[\"fold\"].value_counts()"
   ]
  },
  {
   "cell_type": "code",
   "execution_count": 142,
   "id": "2f10b8cc",
   "metadata": {},
   "outputs": [
    {
     "data": {
      "text/html": [
       "<div>\n",
       "<style scoped>\n",
       "    .dataframe tbody tr th:only-of-type {\n",
       "        vertical-align: middle;\n",
       "    }\n",
       "\n",
       "    .dataframe tbody tr th {\n",
       "        vertical-align: top;\n",
       "    }\n",
       "\n",
       "    .dataframe thead th {\n",
       "        text-align: right;\n",
       "    }\n",
       "</style>\n",
       "<table border=\"1\" class=\"dataframe\">\n",
       "  <thead>\n",
       "    <tr style=\"text-align: right;\">\n",
       "      <th></th>\n",
       "      <th>index</th>\n",
       "      <th>jackhammer</th>\n",
       "      <th>dog_bark</th>\n",
       "      <th>children_playing</th>\n",
       "      <th>street_music</th>\n",
       "      <th>air_conditioner</th>\n",
       "      <th>drilling</th>\n",
       "      <th>engine_idling</th>\n",
       "      <th>siren</th>\n",
       "      <th>car_horn</th>\n",
       "      <th>gun_shot</th>\n",
       "    </tr>\n",
       "  </thead>\n",
       "  <tbody>\n",
       "    <tr>\n",
       "      <th>0</th>\n",
       "      <td>fold1</td>\n",
       "      <td>120</td>\n",
       "      <td>100</td>\n",
       "      <td>100</td>\n",
       "      <td>100</td>\n",
       "      <td>100</td>\n",
       "      <td>100</td>\n",
       "      <td>96</td>\n",
       "      <td>86</td>\n",
       "      <td>36</td>\n",
       "      <td>35</td>\n",
       "    </tr>\n",
       "    <tr>\n",
       "      <th>1</th>\n",
       "      <td>fold2</td>\n",
       "      <td>120</td>\n",
       "      <td>100</td>\n",
       "      <td>100</td>\n",
       "      <td>100</td>\n",
       "      <td>100</td>\n",
       "      <td>100</td>\n",
       "      <td>100</td>\n",
       "      <td>91</td>\n",
       "      <td>42</td>\n",
       "      <td>35</td>\n",
       "    </tr>\n",
       "    <tr>\n",
       "      <th>2</th>\n",
       "      <td>fold3</td>\n",
       "      <td>120</td>\n",
       "      <td>100</td>\n",
       "      <td>100</td>\n",
       "      <td>100</td>\n",
       "      <td>100</td>\n",
       "      <td>100</td>\n",
       "      <td>107</td>\n",
       "      <td>119</td>\n",
       "      <td>43</td>\n",
       "      <td>36</td>\n",
       "    </tr>\n",
       "    <tr>\n",
       "      <th>3</th>\n",
       "      <td>fold4</td>\n",
       "      <td>120</td>\n",
       "      <td>100</td>\n",
       "      <td>100</td>\n",
       "      <td>100</td>\n",
       "      <td>100</td>\n",
       "      <td>100</td>\n",
       "      <td>107</td>\n",
       "      <td>166</td>\n",
       "      <td>59</td>\n",
       "      <td>38</td>\n",
       "    </tr>\n",
       "    <tr>\n",
       "      <th>4</th>\n",
       "      <td>fold5</td>\n",
       "      <td>120</td>\n",
       "      <td>100</td>\n",
       "      <td>100</td>\n",
       "      <td>100</td>\n",
       "      <td>100</td>\n",
       "      <td>100</td>\n",
       "      <td>107</td>\n",
       "      <td>71</td>\n",
       "      <td>98</td>\n",
       "      <td>40</td>\n",
       "    </tr>\n",
       "    <tr>\n",
       "      <th>5</th>\n",
       "      <td>fold6</td>\n",
       "      <td>68</td>\n",
       "      <td>100</td>\n",
       "      <td>100</td>\n",
       "      <td>100</td>\n",
       "      <td>100</td>\n",
       "      <td>100</td>\n",
       "      <td>107</td>\n",
       "      <td>74</td>\n",
       "      <td>28</td>\n",
       "      <td>46</td>\n",
       "    </tr>\n",
       "    <tr>\n",
       "      <th>6</th>\n",
       "      <td>fold7</td>\n",
       "      <td>76</td>\n",
       "      <td>100</td>\n",
       "      <td>100</td>\n",
       "      <td>100</td>\n",
       "      <td>100</td>\n",
       "      <td>100</td>\n",
       "      <td>106</td>\n",
       "      <td>77</td>\n",
       "      <td>28</td>\n",
       "      <td>51</td>\n",
       "    </tr>\n",
       "    <tr>\n",
       "      <th>7</th>\n",
       "      <td>fold8</td>\n",
       "      <td>78</td>\n",
       "      <td>100</td>\n",
       "      <td>100</td>\n",
       "      <td>100</td>\n",
       "      <td>100</td>\n",
       "      <td>100</td>\n",
       "      <td>88</td>\n",
       "      <td>80</td>\n",
       "      <td>30</td>\n",
       "      <td>30</td>\n",
       "    </tr>\n",
       "    <tr>\n",
       "      <th>8</th>\n",
       "      <td>fold9</td>\n",
       "      <td>82</td>\n",
       "      <td>100</td>\n",
       "      <td>100</td>\n",
       "      <td>100</td>\n",
       "      <td>100</td>\n",
       "      <td>100</td>\n",
       "      <td>89</td>\n",
       "      <td>82</td>\n",
       "      <td>32</td>\n",
       "      <td>31</td>\n",
       "    </tr>\n",
       "    <tr>\n",
       "      <th>9</th>\n",
       "      <td>fold10</td>\n",
       "      <td>96</td>\n",
       "      <td>100</td>\n",
       "      <td>100</td>\n",
       "      <td>100</td>\n",
       "      <td>100</td>\n",
       "      <td>100</td>\n",
       "      <td>93</td>\n",
       "      <td>83</td>\n",
       "      <td>33</td>\n",
       "      <td>32</td>\n",
       "    </tr>\n",
       "  </tbody>\n",
       "</table>\n",
       "</div>"
      ],
      "text/plain": [
       "    index  jackhammer  dog_bark  children_playing  street_music  \\\n",
       "0   fold1         120       100               100           100   \n",
       "1   fold2         120       100               100           100   \n",
       "2   fold3         120       100               100           100   \n",
       "3   fold4         120       100               100           100   \n",
       "4   fold5         120       100               100           100   \n",
       "5   fold6          68       100               100           100   \n",
       "6   fold7          76       100               100           100   \n",
       "7   fold8          78       100               100           100   \n",
       "8   fold9          82       100               100           100   \n",
       "9  fold10          96       100               100           100   \n",
       "\n",
       "   air_conditioner  drilling  engine_idling  siren  car_horn  gun_shot  \n",
       "0              100       100             96     86        36        35  \n",
       "1              100       100            100     91        42        35  \n",
       "2              100       100            107    119        43        36  \n",
       "3              100       100            107    166        59        38  \n",
       "4              100       100            107     71        98        40  \n",
       "5              100       100            107     74        28        46  \n",
       "6              100       100            106     77        28        51  \n",
       "7              100       100             88     80        30        30  \n",
       "8              100       100             89     82        32        31  \n",
       "9              100       100             93     83        33        32  "
      ]
     },
     "execution_count": 142,
     "metadata": {},
     "output_type": "execute_result"
    }
   ],
   "source": [
    "appended = []\n",
    "for i in range(1,11):\n",
    "    appended.append(df[df.fold == i]['class'].value_counts())\n",
    "    \n",
    "class_distribution = pd.DataFrame(appended)\n",
    "class_distribution = class_distribution.reset_index()\n",
    "class_distribution['index'] = [\"fold\"+str(x) for x in range(1,11)]\n",
    "class_distribution"
   ]
  },
  {
   "cell_type": "code",
   "execution_count": 143,
   "id": "697096d6",
   "metadata": {},
   "outputs": [
    {
     "data": {
      "text/plain": [
       "dog_bark            0.114521\n",
       "children_playing    0.114521\n",
       "air_conditioner     0.114521\n",
       "street_music        0.114521\n",
       "engine_idling       0.114521\n",
       "jackhammer          0.114521\n",
       "drilling            0.114521\n",
       "siren               0.106390\n",
       "car_horn            0.049130\n",
       "gun_shot            0.042831\n",
       "Name: class, dtype: float64"
      ]
     },
     "execution_count": 143,
     "metadata": {},
     "output_type": "execute_result"
    }
   ],
   "source": [
    "df['class'].value_counts(normalize=True)"
   ]
  },
  {
   "cell_type": "code",
   "execution_count": 144,
   "id": "987509ab",
   "metadata": {},
   "outputs": [
    {
     "name": "stderr",
     "output_type": "stream",
     "text": [
      "C:\\Users\\Meltem\\AppData\\Local\\Temp/ipykernel_45872/1074553733.py:7: FutureWarning: Pass y=[-0.   -0.01 -0.   ... -0.   -0.   -0.  ], sr=22050 as keyword args. From version 0.10 passing these as positional arguments will result in an error\n",
      "  mfccs = librosa.feature.mfcc(y, sr, n_mfcc=100)\n"
     ]
    },
    {
     "data": {
      "image/png": "[encoded data removed]",
      "text/plain": [
       "<Figure size 720x288 with 2 Axes>"
      ]
     },
     "metadata": {
      "needs_background": "light"
     },
     "output_type": "display_data"
    }
   ],
   "source": [
    "import os\n",
    "import IPython.display as ipd\n",
    "ipd.Audio('C:/Users/Meltem/Desktop/Urban-Sound-Classification-using-CNN-main/Urban-Sound-Classification-using-CNN-main/audio/fold9/101729-0-0-18.wav')\n",
    "\n",
    "#MFCC \n",
    "y,sr=librosa.load(\"C:/Users/Meltem/Desktop/Urban-Sound-Classification-using-CNN-main/Urban-Sound-Classification-using-CNN-main/audio/fold5/100032-3-0-0.wav\")\n",
    "mfccs = librosa.feature.mfcc(y, sr, n_mfcc=100)\n",
    "\n",
    "import matplotlib.pyplot as plt\n",
    "plt.figure(figsize=(10,4))\n",
    "librosa.display.specshow(mfccs, x_axis='time')\n",
    "plt.colorbar()\n",
    "plt.title('MFCC')\n",
    "plt.tight_layout()"
   ]
  },
  {
   "cell_type": "code",
   "execution_count": 145,
   "id": "795723b9",
   "metadata": {},
   "outputs": [
    {
     "data": {
      "image/png": "[encoded data removed]",
      "text/plain": [
       "<Figure size 720x288 with 2 Axes>"
      ]
     },
     "metadata": {
      "needs_background": "light"
     },
     "output_type": "display_data"
    }
   ],
   "source": [
    "#Melspectrogram\n",
    "melspectrogram =librosa.feature.melspectrogram(y=y, sr=sr, n_mels=100,fmax=8000)\n",
    "plt.figure(figsize=(10,4))\n",
    "librosa.display.specshow(librosa.power_to_db(melspectrogram,ref=np.max),y_axis='mel', fmax=8000,x_axis='time')\n",
    "plt.colorbar(format='%+2.0f dB')\n",
    "plt.title('Mel spectrogram')\n",
    "plt.tight_layout()"
   ]
  },
  {
   "cell_type": "code",
   "execution_count": 146,
   "id": "3528ea36",
   "metadata": {},
   "outputs": [
    {
     "data": {
      "image/png": "[encoded data removed]",
      "text/plain": [
       "<Figure size 720x288 with 2 Axes>"
      ]
     },
     "metadata": {
      "needs_background": "light"
     },
     "output_type": "display_data"
    }
   ],
   "source": [
    "# Chroma_stft\n",
    "chroma_stft=librosa.feature.chroma_stft(y=y, sr=sr,n_chroma=100)\n",
    "plt.figure(figsize=(10,4))\n",
    "librosa.display.specshow(chroma_stft, y_axis='chroma', x_axis='time')\n",
    "plt.colorbar()\n",
    "plt.title('Chromagram-stft')\n",
    "plt.tight_layout()"
   ]
  },
  {
   "cell_type": "code",
   "execution_count": 147,
   "id": "b14dd77d",
   "metadata": {},
   "outputs": [
    {
     "name": "stderr",
     "output_type": "stream",
     "text": [
      "C:\\Users\\Meltem\\AppData\\Local\\Temp/ipykernel_45872/4068896919.py:2: FutureWarning: Pass y=[-0.   -0.01 -0.   ... -0.   -0.   -0.  ], sr=22050 as keyword args. From version 0.10 passing these as positional arguments will result in an error\n",
      "  mfccs = np.mean(librosa.feature.mfcc(y, sr, n_mfcc=100).T,axis=0)\n"
     ]
    },
    {
     "data": {
      "text/plain": [
       "((100,), (100,), (100,))"
      ]
     },
     "execution_count": 147,
     "metadata": {},
     "output_type": "execute_result"
    }
   ],
   "source": [
    "y,sr=librosa.load(\"C:/Users/Meltem/Desktop/Urban-Sound-Classification-using-CNN-main/Urban-Sound-Classification-using-CNN-main/audio/fold5/100032-3-0-0.wav\")\n",
    "mfccs = np.mean(librosa.feature.mfcc(y, sr, n_mfcc=100).T,axis=0)\n",
    "melspectrogram = np.mean(librosa.feature.melspectrogram(y=y, sr=sr, n_mels=100,fmax=8000).T,axis=0)\n",
    "chroma_stft=np.mean(librosa.feature.chroma_stft(y=y, sr=sr,n_chroma=100).T,axis=0)\n",
    "# tonnetz = np.mean(librosa.feature.tonnetz(y=librosa.effects.harmonic(X),sr=sr).T,axis=0)\n",
    "# melspectrogram.shape,chroma_stft.shape,contrast.shape,tonnetz.shape,mfccs.shape\n",
    "mfccs.shape,melspectrogram.shape,chroma_stft.shape"
   ]
  },
  {
   "cell_type": "code",
   "execution_count": 148,
   "id": "7d086cfd",
   "metadata": {},
   "outputs": [
    {
     "data": {
      "text/plain": [
       "(100, 3)"
      ]
     },
     "execution_count": 148,
     "metadata": {},
     "output_type": "execute_result"
    }
   ],
   "source": [
    "features=np.reshape(np.vstack((mfccs,melspectrogram,chroma_stft)),(100,3))\n",
    "features.shape"
   ]
  },
  {
   "cell_type": "code",
   "execution_count": 149,
   "id": "2e7fc76b",
   "metadata": {},
   "outputs": [
    {
     "name": "stderr",
     "output_type": "stream",
     "text": [
      " 41%|███████████████████████████████▊                                              | 3555/8732 [05:49<08:10, 10.55it/s]C:\\Users\\Meltem\\anaconda3\\lib\\site-packages\\librosa\\util\\decorators.py:88: UserWarning: n_fft=2048 is too small for input signal of length=1323\n",
      "  return f(*args, **kwargs)\n",
      " 95%|██████████████████████████████████████████████████████████████████████████▎   | 8325/8732 [13:09<00:25, 16.18it/s]C:\\Users\\Meltem\\anaconda3\\lib\\site-packages\\librosa\\util\\decorators.py:88: UserWarning: n_fft=2048 is too small for input signal of length=1103\n",
      "  return f(*args, **kwargs)\n",
      "C:\\Users\\Meltem\\anaconda3\\lib\\site-packages\\librosa\\util\\decorators.py:88: UserWarning: n_fft=2048 is too small for input signal of length=1523\n",
      "  return f(*args, **kwargs)\n",
      "100%|██████████████████████████████████████████████████████████████████████████████| 8732/8732 [13:42<00:00, 10.62it/s]\n"
     ]
    }
   ],
   "source": [
    "x_train=[]\n",
    "x_test=[]\n",
    "y_train=[]\n",
    "y_test=[]\n",
    "\n",
    "path=\"C:/Users/Meltem/Desktop/Urban-Sound-Classification-using-CNN-main/Urban-Sound-Classification-using-CNN-main/audio/fold\"\n",
    "for i in tqdm(range(len(df))):\n",
    "    fold_no=str(df.iloc[i][\"fold\"])\n",
    "    file=df.iloc[i][\"slice_file_name\"]\n",
    "    label=df.iloc[i][\"classID\"]\n",
    "    filename=path+fold_no+\"/\"+file\n",
    "    y,sr=librosa.load(filename)\n",
    "    melspectrogram = np.mean(librosa.feature.melspectrogram(y=y, sr=sr, n_mels=100,fmax=8000).T,axis=0)\n",
    "    features=np.reshape(np.vstack((mfccs,melspectrogram,chroma_stft)),(100,3))\n",
    "    if(fold_no!='10'):\n",
    "      x_train.append(features)\n",
    "      y_train.append(label)\n",
    "    else:\n",
    "      x_test.append(features)\n",
    "      y_test.append(label)"
   ]
  },
  {
   "cell_type": "code",
   "execution_count": 150,
   "id": "20817987",
   "metadata": {},
   "outputs": [
    {
     "data": {
      "text/plain": [
       "((8732, 100, 3), (8732,))"
      ]
     },
     "execution_count": 150,
     "metadata": {},
     "output_type": "execute_result"
    }
   ],
   "source": [
    "x=x_train+x_test\n",
    "y=y_train+y_test\n",
    "\n",
    "x=np.array(x)\n",
    "y=np.array(y)\n",
    "x.shape,y.shape"
   ]
  },
  {
   "cell_type": "code",
   "execution_count": 151,
   "id": "df4d2ef1",
   "metadata": {},
   "outputs": [
    {
     "data": {
      "text/plain": [
       "(8732, 300)"
      ]
     },
     "execution_count": 151,
     "metadata": {},
     "output_type": "execute_result"
    }
   ],
   "source": [
    "x_2d=np.reshape(x,(x.shape[0],x.shape[1]*x.shape[2]))\n",
    "x_2d.shape\n",
    "\n",
    "np.savetxt(\"x.csv\", x_2d, delimiter=\",\")\n",
    "np.savetxt(\"y.csv\",y,delimiter=\",\")\n",
    "x_2d.shape"
   ]
  },
  {
   "cell_type": "code",
   "execution_count": 152,
   "id": "e7cbbadb",
   "metadata": {},
   "outputs": [
    {
     "name": "stdout",
     "output_type": "stream",
     "text": [
      "Test split: 1746 \t\t Train split: 6986\n",
      "X test shape: (1746, 100, 3) \t X train shape: (6986, 100, 3)\n",
      "y test shape: (1746,) \t\t y train shape: (6986,)\n"
     ]
    }
   ],
   "source": [
    "ndexes = []\n",
    "total = len(df)\n",
    "indexes = list(range(0, total))\n",
    "\n",
    "\n",
    "random.shuffle(indexes)\n",
    "\n",
    "test_split_pct = 20\n",
    "split_offset = math.floor(test_split_pct * total / 100)\n",
    "\n",
    "test_split_idx = indexes[0:split_offset]\n",
    "train_split_idx = indexes[split_offset:total]\n",
    "\n",
    "\n",
    "X_test = np.take(x, test_split_idx, axis=0)\n",
    "y_test = np.take(y, test_split_idx, axis=0)\n",
    "X_train = np.take(x, train_split_idx, axis=0)\n",
    "y_train = np.take(y, train_split_idx, axis=0)\n",
    "\n",
    "test = df.iloc[test_split_idx]\n",
    "train = df.iloc[train_split_idx]\n",
    "\n",
    "print(\"Test split: {} \\t\\t Train split: {}\".format(len(test), len(train)))\n",
    "print(\"X test shape: {} \\t X train shape: {}\".format(X_test.shape, X_train.shape))\n",
    "print(\"y test shape: {} \\t\\t y train shape: {}\".format(y_test.shape, y_train.shape))"
   ]
  },
  {
   "cell_type": "code",
   "execution_count": 153,
   "id": "436722fe",
   "metadata": {},
   "outputs": [
    {
     "data": {
      "text/plain": [
       "((6986, 10), (1746, 10))"
      ]
     },
     "execution_count": 153,
     "metadata": {},
     "output_type": "execute_result"
    }
   ],
   "source": [
    "from keras.utils.np_utils import to_categorical\n",
    "y_train = to_categorical(y_train, num_classes=10)\n",
    "y_test = to_categorical(y_test, num_classes=10)\n",
    "y_train.shape,y_test.shape"
   ]
  },
  {
   "cell_type": "code",
   "execution_count": 154,
   "id": "b24f3ce7",
   "metadata": {},
   "outputs": [
    {
     "data": {
      "text/plain": [
       "((6986, 100, 3), (1746, 100, 3))"
      ]
     },
     "execution_count": 154,
     "metadata": {},
     "output_type": "execute_result"
    }
   ],
   "source": [
    "X_train=np.reshape(X_train,(X_train.shape[0], 100,3))\n",
    "X_test=np.reshape(X_test,(X_test.shape[0], 100,3))\n",
    "X_train.shape,X_test.shape"
   ]
  },
  {
   "cell_type": "code",
   "execution_count": 155,
   "id": "4499aa6d",
   "metadata": {},
   "outputs": [
    {
     "data": {
      "text/plain": [
       "((6986, 100, 3, 1), (1746, 100, 3, 1))"
      ]
     },
     "execution_count": 155,
     "metadata": {},
     "output_type": "execute_result"
    }
   ],
   "source": [
    "X_train=np.reshape(X_train,(X_train.shape[0], 100,3,1))\n",
    "X_test=np.reshape(X_test,(X_test.shape[0], 100,3,1))\n",
    "X_train.shape,X_test.shape"
   ]
  },
  {
   "cell_type": "code",
   "execution_count": 156,
   "id": "c5d0a753",
   "metadata": {},
   "outputs": [
    {
     "name": "stdout",
     "output_type": "stream",
     "text": [
      "Epoch 1/100\n",
      "195/195 [==============================] - 7s 28ms/step - loss: 2.2415 - accuracy: 0.1928 - val_loss: 1.9391 - val_accuracy: 0.3322\n",
      "Epoch 2/100\n",
      "195/195 [==============================] - 5s 25ms/step - loss: 1.8935 - accuracy: 0.3331 - val_loss: 1.6664 - val_accuracy: 0.4129\n",
      "Epoch 3/100\n",
      "195/195 [==============================] - 5s 25ms/step - loss: 1.7254 - accuracy: 0.3942 - val_loss: 1.5324 - val_accuracy: 0.4679\n",
      "Epoch 4/100\n",
      "195/195 [==============================] - 5s 25ms/step - loss: 1.5986 - accuracy: 0.4413 - val_loss: 1.4108 - val_accuracy: 0.5109\n",
      "Epoch 5/100\n",
      "195/195 [==============================] - 5s 25ms/step - loss: 1.5011 - accuracy: 0.4818 - val_loss: 1.3286 - val_accuracy: 0.5407\n",
      "Epoch 6/100\n",
      "195/195 [==============================] - 5s 25ms/step - loss: 1.4415 - accuracy: 0.5072 - val_loss: 1.2922 - val_accuracy: 0.5670\n",
      "Epoch 7/100\n",
      "195/195 [==============================] - 5s 26ms/step - loss: 1.3503 - accuracy: 0.5394 - val_loss: 1.1555 - val_accuracy: 0.5922\n",
      "Epoch 8/100\n",
      "195/195 [==============================] - 5s 26ms/step - loss: 1.2916 - accuracy: 0.5634 - val_loss: 1.1300 - val_accuracy: 0.6077\n",
      "Epoch 9/100\n",
      "195/195 [==============================] - 5s 26ms/step - loss: 1.2275 - accuracy: 0.5846 - val_loss: 1.0847 - val_accuracy: 0.6472\n",
      "Epoch 10/100\n",
      "195/195 [==============================] - 5s 26ms/step - loss: 1.1796 - accuracy: 0.5955 - val_loss: 0.9707 - val_accuracy: 0.6781\n",
      "Epoch 11/100\n",
      "195/195 [==============================] - 5s 27ms/step - loss: 1.1268 - accuracy: 0.6192 - val_loss: 1.0413 - val_accuracy: 0.6501\n",
      "Epoch 12/100\n",
      "195/195 [==============================] - 5s 26ms/step - loss: 1.1036 - accuracy: 0.6353 - val_loss: 0.9162 - val_accuracy: 0.6901\n",
      "Epoch 13/100\n",
      "195/195 [==============================] - 5s 27ms/step - loss: 1.0308 - accuracy: 0.6545 - val_loss: 0.8667 - val_accuracy: 0.7194\n",
      "Epoch 14/100\n",
      "195/195 [==============================] - 5s 25ms/step - loss: 0.9975 - accuracy: 0.6640 - val_loss: 0.8741 - val_accuracy: 0.7033\n",
      "Epoch 15/100\n",
      "195/195 [==============================] - 5s 25ms/step - loss: 0.9944 - accuracy: 0.6733 - val_loss: 0.8656 - val_accuracy: 0.6970\n",
      "Epoch 16/100\n",
      "195/195 [==============================] - 5s 25ms/step - loss: 0.9511 - accuracy: 0.6834 - val_loss: 0.8704 - val_accuracy: 0.7050\n",
      "Epoch 17/100\n",
      "195/195 [==============================] - 5s 26ms/step - loss: 0.9096 - accuracy: 0.6947 - val_loss: 0.7881 - val_accuracy: 0.7348\n",
      "Epoch 18/100\n",
      "195/195 [==============================] - 5s 25ms/step - loss: 0.8710 - accuracy: 0.7080 - val_loss: 0.7629 - val_accuracy: 0.7503\n",
      "Epoch 19/100\n",
      "195/195 [==============================] - 5s 26ms/step - loss: 0.8786 - accuracy: 0.7044 - val_loss: 0.7268 - val_accuracy: 0.7652\n",
      "Epoch 20/100\n",
      "195/195 [==============================] - 5s 25ms/step - loss: 0.9037 - accuracy: 0.6987 - val_loss: 0.7435 - val_accuracy: 0.7640\n",
      "Epoch 21/100\n",
      "195/195 [==============================] - 5s 25ms/step - loss: 0.8084 - accuracy: 0.7277 - val_loss: 0.7799 - val_accuracy: 0.7572\n",
      "Epoch 22/100\n",
      "195/195 [==============================] - 5s 27ms/step - loss: 0.8312 - accuracy: 0.7240 - val_loss: 0.6979 - val_accuracy: 0.7680\n",
      "Epoch 23/100\n",
      "195/195 [==============================] - 6s 30ms/step - loss: 0.8058 - accuracy: 0.7307 - val_loss: 0.7150 - val_accuracy: 0.7686\n",
      "Epoch 24/100\n",
      "195/195 [==============================] - 6s 29ms/step - loss: 0.7620 - accuracy: 0.7433 - val_loss: 0.7261 - val_accuracy: 0.7795\n",
      "Epoch 25/100\n",
      "195/195 [==============================] - 6s 29ms/step - loss: 0.7334 - accuracy: 0.7585 - val_loss: 0.6909 - val_accuracy: 0.7858\n",
      "Epoch 26/100\n",
      "195/195 [==============================] - 5s 28ms/step - loss: 0.7488 - accuracy: 0.7508 - val_loss: 0.6691 - val_accuracy: 0.7841\n",
      "Epoch 27/100\n",
      "195/195 [==============================] - 6s 29ms/step - loss: 0.6950 - accuracy: 0.7630 - val_loss: 0.6676 - val_accuracy: 0.7915\n",
      "Epoch 28/100\n",
      "195/195 [==============================] - 6s 29ms/step - loss: 0.7023 - accuracy: 0.7695 - val_loss: 0.6474 - val_accuracy: 0.8024\n",
      "Epoch 29/100\n",
      "195/195 [==============================] - 6s 29ms/step - loss: 0.7319 - accuracy: 0.7601 - val_loss: 0.6650 - val_accuracy: 0.7852\n",
      "Epoch 30/100\n",
      "195/195 [==============================] - 6s 29ms/step - loss: 0.6865 - accuracy: 0.7710 - val_loss: 0.6800 - val_accuracy: 0.7887\n",
      "Epoch 31/100\n",
      "195/195 [==============================] - 6s 29ms/step - loss: 0.6818 - accuracy: 0.7784 - val_loss: 0.6930 - val_accuracy: 0.7881\n",
      "Epoch 32/100\n",
      "195/195 [==============================] - 6s 29ms/step - loss: 0.6951 - accuracy: 0.7714 - val_loss: 0.6340 - val_accuracy: 0.8018\n",
      "Epoch 33/100\n",
      "195/195 [==============================] - 5s 27ms/step - loss: 0.6343 - accuracy: 0.7869 - val_loss: 0.5864 - val_accuracy: 0.8133\n",
      "Epoch 34/100\n",
      "195/195 [==============================] - 5s 27ms/step - loss: 0.6350 - accuracy: 0.7834 - val_loss: 0.6213 - val_accuracy: 0.8007\n",
      "Epoch 35/100\n",
      "195/195 [==============================] - 5s 26ms/step - loss: 0.6414 - accuracy: 0.7883 - val_loss: 0.6649 - val_accuracy: 0.8007\n",
      "Epoch 36/100\n",
      "195/195 [==============================] - 5s 25ms/step - loss: 0.6410 - accuracy: 0.7866 - val_loss: 0.5940 - val_accuracy: 0.8047\n",
      "Epoch 37/100\n",
      "195/195 [==============================] - 6s 28ms/step - loss: 0.6098 - accuracy: 0.7944 - val_loss: 0.6078 - val_accuracy: 0.8053\n",
      "Epoch 38/100\n",
      "195/195 [==============================] - 5s 27ms/step - loss: 0.6142 - accuracy: 0.7879 - val_loss: 0.5939 - val_accuracy: 0.8070\n",
      "Epoch 39/100\n",
      "195/195 [==============================] - 5s 27ms/step - loss: 0.6391 - accuracy: 0.7889 - val_loss: 0.5995 - val_accuracy: 0.8093\n",
      "Epoch 40/100\n",
      "195/195 [==============================] - 5s 26ms/step - loss: 0.6025 - accuracy: 0.8015 - val_loss: 0.5960 - val_accuracy: 0.8179\n",
      "Epoch 41/100\n",
      "195/195 [==============================] - 5s 26ms/step - loss: 0.6013 - accuracy: 0.7995 - val_loss: 0.5819 - val_accuracy: 0.8081\n",
      "Epoch 42/100\n",
      "195/195 [==============================] - 5s 26ms/step - loss: 0.5821 - accuracy: 0.8035 - val_loss: 0.5727 - val_accuracy: 0.8184\n",
      "Epoch 43/100\n",
      "195/195 [==============================] - 5s 27ms/step - loss: 0.5948 - accuracy: 0.8049 - val_loss: 0.5920 - val_accuracy: 0.8156\n",
      "Epoch 44/100\n",
      "195/195 [==============================] - 5s 28ms/step - loss: 0.6226 - accuracy: 0.8038 - val_loss: 0.6495 - val_accuracy: 0.7961\n",
      "Epoch 45/100\n",
      "195/195 [==============================] - 5s 28ms/step - loss: 0.6325 - accuracy: 0.7930 - val_loss: 0.6309 - val_accuracy: 0.8150\n",
      "Epoch 46/100\n",
      "195/195 [==============================] - 6s 29ms/step - loss: 0.5741 - accuracy: 0.8099 - val_loss: 0.5928 - val_accuracy: 0.8167\n",
      "Epoch 47/100\n",
      "195/195 [==============================] - 6s 29ms/step - loss: 0.5589 - accuracy: 0.8239 - val_loss: 0.5932 - val_accuracy: 0.8230\n",
      "Epoch 48/100\n",
      "195/195 [==============================] - 6s 30ms/step - loss: 0.5891 - accuracy: 0.8080 - val_loss: 0.6587 - val_accuracy: 0.8007\n",
      "Epoch 49/100\n",
      "195/195 [==============================] - 6s 31ms/step - loss: 0.5885 - accuracy: 0.8076 - val_loss: 0.5921 - val_accuracy: 0.8253\n",
      "Epoch 50/100\n",
      "195/195 [==============================] - 6s 30ms/step - loss: 0.5422 - accuracy: 0.8246 - val_loss: 0.5773 - val_accuracy: 0.8328\n",
      "Epoch 51/100\n",
      "195/195 [==============================] - 6s 29ms/step - loss: 0.5304 - accuracy: 0.8258 - val_loss: 0.5828 - val_accuracy: 0.8093\n",
      "Epoch 52/100\n",
      "195/195 [==============================] - 6s 32ms/step - loss: 0.5361 - accuracy: 0.8330 - val_loss: 0.5664 - val_accuracy: 0.8219\n",
      "Epoch 53/100\n",
      "195/195 [==============================] - 6s 30ms/step - loss: 0.5891 - accuracy: 0.8069 - val_loss: 0.5739 - val_accuracy: 0.8288\n",
      "Epoch 54/100\n",
      "195/195 [==============================] - 5s 28ms/step - loss: 0.4990 - accuracy: 0.8360 - val_loss: 0.5914 - val_accuracy: 0.8202\n",
      "Epoch 55/100\n",
      "195/195 [==============================] - 5s 26ms/step - loss: 0.4723 - accuracy: 0.8421 - val_loss: 0.5292 - val_accuracy: 0.8316\n",
      "Epoch 56/100\n",
      "195/195 [==============================] - 6s 31ms/step - loss: 0.4731 - accuracy: 0.8382 - val_loss: 0.5661 - val_accuracy: 0.8310\n",
      "Epoch 57/100\n"
     ]
    },
    {
     "name": "stdout",
     "output_type": "stream",
     "text": [
      "195/195 [==============================] - 6s 29ms/step - loss: 0.4986 - accuracy: 0.8375 - val_loss: 0.5347 - val_accuracy: 0.8333\n",
      "Epoch 58/100\n",
      "195/195 [==============================] - 5s 27ms/step - loss: 0.4836 - accuracy: 0.8374 - val_loss: 0.5827 - val_accuracy: 0.8408\n",
      "Epoch 59/100\n",
      "195/195 [==============================] - 6s 29ms/step - loss: 0.5044 - accuracy: 0.8378 - val_loss: 0.6309 - val_accuracy: 0.8310\n",
      "Epoch 60/100\n",
      "195/195 [==============================] - 5s 28ms/step - loss: 0.5084 - accuracy: 0.8311 - val_loss: 0.5775 - val_accuracy: 0.8396\n",
      "Epoch 61/100\n",
      "195/195 [==============================] - 5s 25ms/step - loss: 0.4644 - accuracy: 0.8445 - val_loss: 0.5587 - val_accuracy: 0.8259\n",
      "Epoch 62/100\n",
      "195/195 [==============================] - 5s 25ms/step - loss: 0.4664 - accuracy: 0.8474 - val_loss: 0.5487 - val_accuracy: 0.8414\n",
      "Epoch 63/100\n",
      "195/195 [==============================] - 6s 29ms/step - loss: 0.4450 - accuracy: 0.8546 - val_loss: 0.5327 - val_accuracy: 0.8391\n",
      "Epoch 64/100\n",
      "195/195 [==============================] - 5s 28ms/step - loss: 0.5175 - accuracy: 0.8381 - val_loss: 0.5966 - val_accuracy: 0.8299\n",
      "Epoch 65/100\n",
      "195/195 [==============================] - 6s 29ms/step - loss: 0.4986 - accuracy: 0.8408 - val_loss: 0.6456 - val_accuracy: 0.8408\n",
      "Epoch 66/100\n",
      "195/195 [==============================] - 6s 30ms/step - loss: 0.4594 - accuracy: 0.8564 - val_loss: 0.5397 - val_accuracy: 0.8425\n",
      "Epoch 67/100\n",
      "195/195 [==============================] - 6s 30ms/step - loss: 0.4556 - accuracy: 0.8498 - val_loss: 0.6081 - val_accuracy: 0.8339\n",
      "Epoch 68/100\n",
      "195/195 [==============================] - 5s 27ms/step - loss: 0.4703 - accuracy: 0.8486 - val_loss: 0.5679 - val_accuracy: 0.8356\n",
      "Epoch 69/100\n",
      "195/195 [==============================] - 5s 24ms/step - loss: 0.4255 - accuracy: 0.8601 - val_loss: 0.5479 - val_accuracy: 0.8488\n",
      "Epoch 70/100\n",
      "195/195 [==============================] - 6s 30ms/step - loss: 0.4707 - accuracy: 0.8441 - val_loss: 0.5684 - val_accuracy: 0.8310\n",
      "Epoch 71/100\n",
      "195/195 [==============================] - 5s 28ms/step - loss: 0.4522 - accuracy: 0.8497 - val_loss: 0.5530 - val_accuracy: 0.8368\n",
      "Epoch 72/100\n",
      "195/195 [==============================] - 6s 31ms/step - loss: 0.4461 - accuracy: 0.8506 - val_loss: 0.5912 - val_accuracy: 0.8465\n",
      "Epoch 73/100\n",
      "195/195 [==============================] - 6s 30ms/step - loss: 0.4200 - accuracy: 0.8606 - val_loss: 0.5545 - val_accuracy: 0.8425\n",
      "Epoch 74/100\n",
      "195/195 [==============================] - 5s 27ms/step - loss: 0.4226 - accuracy: 0.8620 - val_loss: 0.5471 - val_accuracy: 0.8465\n",
      "Epoch 75/100\n",
      "195/195 [==============================] - 7s 34ms/step - loss: 0.4835 - accuracy: 0.8490 - val_loss: 0.5120 - val_accuracy: 0.8425\n",
      "Epoch 76/100\n",
      "195/195 [==============================] - 6s 28ms/step - loss: 0.4270 - accuracy: 0.8607 - val_loss: 0.5700 - val_accuracy: 0.8511\n",
      "Epoch 77/100\n",
      "195/195 [==============================] - 6s 32ms/step - loss: 0.4370 - accuracy: 0.8570 - val_loss: 0.5375 - val_accuracy: 0.8517\n",
      "Epoch 78/100\n",
      "195/195 [==============================] - 6s 30ms/step - loss: 0.4981 - accuracy: 0.8385 - val_loss: 0.5645 - val_accuracy: 0.8362\n",
      "Epoch 79/100\n",
      "195/195 [==============================] - 6s 29ms/step - loss: 0.4264 - accuracy: 0.8604 - val_loss: 0.5263 - val_accuracy: 0.8459\n",
      "Epoch 80/100\n",
      "195/195 [==============================] - 6s 29ms/step - loss: 0.4336 - accuracy: 0.8547 - val_loss: 0.5354 - val_accuracy: 0.8477\n",
      "Epoch 81/100\n",
      "195/195 [==============================] - 7s 33ms/step - loss: 0.3941 - accuracy: 0.8743 - val_loss: 0.5881 - val_accuracy: 0.8482\n",
      "Epoch 82/100\n",
      "195/195 [==============================] - 6s 31ms/step - loss: 0.3688 - accuracy: 0.8713 - val_loss: 0.5912 - val_accuracy: 0.8528\n",
      "Epoch 83/100\n",
      "195/195 [==============================] - 5s 27ms/step - loss: 0.3911 - accuracy: 0.8715 - val_loss: 0.6182 - val_accuracy: 0.8614\n",
      "Epoch 84/100\n",
      "195/195 [==============================] - 5s 26ms/step - loss: 0.4021 - accuracy: 0.8679 - val_loss: 0.6651 - val_accuracy: 0.8499\n",
      "Epoch 85/100\n",
      "195/195 [==============================] - 5s 26ms/step - loss: 0.4055 - accuracy: 0.8646 - val_loss: 0.5394 - val_accuracy: 0.8454\n",
      "Epoch 86/100\n",
      "195/195 [==============================] - 5s 26ms/step - loss: 0.4321 - accuracy: 0.8586 - val_loss: 0.4989 - val_accuracy: 0.8425\n",
      "Epoch 87/100\n",
      "195/195 [==============================] - 6s 29ms/step - loss: 0.4249 - accuracy: 0.8584 - val_loss: 0.4902 - val_accuracy: 0.8568\n",
      "Epoch 88/100\n",
      "195/195 [==============================] - 6s 29ms/step - loss: 0.4304 - accuracy: 0.8596 - val_loss: 0.5419 - val_accuracy: 0.8517\n",
      "Epoch 89/100\n",
      "195/195 [==============================] - 6s 31ms/step - loss: 0.4763 - accuracy: 0.8563 - val_loss: 0.5130 - val_accuracy: 0.8540\n",
      "Epoch 90/100\n",
      "195/195 [==============================] - 6s 29ms/step - loss: 0.4366 - accuracy: 0.8624 - val_loss: 0.5249 - val_accuracy: 0.8448\n",
      "Epoch 91/100\n",
      "195/195 [==============================] - 6s 30ms/step - loss: 0.4478 - accuracy: 0.8593 - val_loss: 0.5152 - val_accuracy: 0.8471\n",
      "Epoch 92/100\n",
      "195/195 [==============================] - 5s 27ms/step - loss: 0.4335 - accuracy: 0.8672 - val_loss: 0.5331 - val_accuracy: 0.8459\n",
      "Epoch 93/100\n",
      "195/195 [==============================] - 5s 27ms/step - loss: 0.4178 - accuracy: 0.8624 - val_loss: 0.5244 - val_accuracy: 0.8568\n",
      "Epoch 94/100\n",
      "195/195 [==============================] - 5s 27ms/step - loss: 0.4028 - accuracy: 0.8667 - val_loss: 0.5089 - val_accuracy: 0.8557\n",
      "Epoch 95/100\n",
      "195/195 [==============================] - 6s 31ms/step - loss: 0.3738 - accuracy: 0.8796 - val_loss: 0.5393 - val_accuracy: 0.8482\n",
      "Epoch 96/100\n",
      "195/195 [==============================] - 6s 31ms/step - loss: 0.3747 - accuracy: 0.8783 - val_loss: 0.5530 - val_accuracy: 0.8551\n",
      "Epoch 97/100\n",
      "195/195 [==============================] - 6s 30ms/step - loss: 0.4426 - accuracy: 0.8682 - val_loss: 0.5360 - val_accuracy: 0.8459\n",
      "Epoch 98/100\n",
      "195/195 [==============================] - 5s 28ms/step - loss: 0.3934 - accuracy: 0.8756 - val_loss: 0.5143 - val_accuracy: 0.8551\n",
      "Epoch 99/100\n",
      "195/195 [==============================] - 6s 29ms/step - loss: 0.3558 - accuracy: 0.8809 - val_loss: 0.5037 - val_accuracy: 0.8505\n",
      "Epoch 100/100\n",
      "195/195 [==============================] - 6s 32ms/step - loss: 0.3782 - accuracy: 0.8822 - val_loss: 0.5301 - val_accuracy: 0.8459\n"
     ]
    }
   ],
   "source": [
    "from keras import Sequential\n",
    "from keras.layers import Dense,Conv2D,MaxPooling2D,Flatten,Dropout\n",
    "\n",
    "model=Sequential()\n",
    "model.add(Conv2D(64,kernel_size=3,strides=1,padding=\"Same\",activation=\"relu\",input_shape=(100,3,1)))\n",
    "model.add(MaxPooling2D(padding=\"same\"))\n",
    "model.add(Conv2D(128,kernel_size=3,strides=1,padding=\"same\",activation=\"relu\"))\n",
    "model.add(MaxPooling2D(padding=\"same\"))\n",
    "model.add(Dropout(0.3))\n",
    "model.add(Flatten())\n",
    "model.add(Dense(256,activation=\"relu\"))\n",
    "model.add(Dropout(0.3))\n",
    "model.add(Dense(512,activation=\"relu\"))\n",
    "model.add(Dropout(0.3))\n",
    "model.add(Flatten())\n",
    "model.add(Dense(1024,activation=\"relu\"))\n",
    "model.add(Dropout(0.3))\n",
    "model.add(Dense(10,activation=\"softmax\"))\n",
    "model.compile(optimizer=\"adam\",loss=\"categorical_crossentropy\",metrics=[\"accuracy\"])\n",
    "\n",
    "history_relu=model.fit(X_train,y_train,batch_size=36,epochs=100,validation_data=(X_test,y_test))"
   ]
  },
  {
   "cell_type": "code",
   "execution_count": 157,
   "id": "2e9464cb",
   "metadata": {},
   "outputs": [
    {
     "name": "stdout",
     "output_type": "stream",
     "text": [
      "219/219 [==============================] - 2s 7ms/step - loss: 0.1571 - accuracy: 0.9478\n",
      "55/55 [==============================] - 0s 7ms/step - loss: 0.5301 - accuracy: 0.8459\n",
      "[0.15711821615695953, 0.9477526545524597]\n",
      "[0.5301483869552612, 0.8459335565567017]\n"
     ]
    }
   ],
   "source": [
    "train_loss_score=model.evaluate(X_train,y_train)\n",
    "test_loss_score=model.evaluate(X_test,y_test)\n",
    "print(train_loss_score)\n",
    "print(test_loss_score)"
   ]
  },
  {
   "cell_type": "code",
   "execution_count": 158,
   "id": "91c5a87b",
   "metadata": {},
   "outputs": [
    {
     "name": "stderr",
     "output_type": "stream",
     "text": [
      "C:\\Users\\Meltem\\AppData\\Local\\Temp/ipykernel_45872/1832282416.py:6: SettingWithCopyWarning: \n",
      "A value is trying to be set on a copy of a slice from a DataFrame.\n",
      "Try using .loc[row_indexer,col_indexer] = value instead\n",
      "\n",
      "See the caveats in the documentation: https://pandas.pydata.org/pandas-docs/stable/user_guide/indexing.html#returning-a-view-versus-a-copy\n",
      "  test['pred'] = yhat_probs\n"
     ]
    }
   ],
   "source": [
    "y_probs = model.predict(X_test)\n",
    "\n",
    "yhat_probs = np.argmax(y_probs, axis=1)\n",
    "y_trues = np.argmax(y_test, axis=1)\n",
    "\n",
    "test['pred'] = yhat_probs"
   ]
  },
  {
   "cell_type": "code",
   "execution_count": 159,
   "id": "abad7deb",
   "metadata": {},
   "outputs": [
    {
     "name": "stdout",
     "output_type": "stream",
     "text": [
      "                  precision    recall  f1-score   support\n",
      "\n",
      " Air Conditioner       0.86      0.96      0.90       198\n",
      "        Car Horn       0.88      0.91      0.89        77\n",
      "Children Playing       0.70      0.68      0.69       190\n",
      "        Dog bark       0.88      0.72      0.79       214\n",
      "        Drilling       0.91      0.84      0.87       227\n",
      "   Engine Idling       0.91      0.89      0.90       195\n",
      "        Gun Shot       0.89      0.81      0.85        72\n",
      "      Jackhammer       0.88      0.95      0.91       225\n",
      "           Siren       0.80      0.93      0.86       175\n",
      "    Street Music       0.79      0.77      0.78       173\n",
      "\n",
      "        accuracy                           0.85      1746\n",
      "       macro avg       0.85      0.85      0.85      1746\n",
      "    weighted avg       0.85      0.85      0.84      1746\n",
      "\n"
     ]
    }
   ],
   "source": [
    "np.set_printoptions(precision=2)\n",
    "\n",
    "cm = confusion_matrix(y_trues, yhat_probs)\n",
    "labels = [\n",
    "        'Air Conditioner',\n",
    "        'Car Horn',\n",
    "        'Children Playing',\n",
    "        'Dog bark',\n",
    "        'Drilling',\n",
    "        'Engine Idling',\n",
    "        'Gun Shot',\n",
    "        'Jackhammer',\n",
    "        'Siren',\n",
    "        'Street Music'\n",
    "    ]\n",
    "\n",
    "re = classification_report(y_trues, yhat_probs, labels=[0,1,2,3,4,5,6,7,8,9], target_names=labels)\n",
    "\n",
    "print(re)"
   ]
  },
  {
   "cell_type": "code",
   "execution_count": 160,
   "id": "20abfc2e",
   "metadata": {},
   "outputs": [
    {
     "data": {
      "image/png": "[encoded data removed]",
      "text/plain": [
       "<Figure size 1440x1080 with 2 Axes>"
      ]
     },
     "metadata": {
      "needs_background": "light"
     },
     "output_type": "display_data"
    }
   ],
   "source": [
    "from sklearn.metrics import confusion_matrix\n",
    "import seaborn as sns\n",
    "# Creating a dataframe for a array-formatted Confusion matrix,so it will be easy for plotting.\n",
    "cm_df = pd.DataFrame(cm,\n",
    "                     index = ['Air Conditioner',\n",
    "        'Car Horn',\n",
    "        'Children Playing',\n",
    "        'Dog bark',\n",
    "        'Drilling',\n",
    "        'Engine Idling',\n",
    "        'Gun Shot',\n",
    "        'Jackhammer',\n",
    "        'Siren',\n",
    "        'Street Music'], \n",
    "                     columns = ['Air Conditioner',\n",
    "        'Car Horn',\n",
    "        'Children Playing',\n",
    "        'Dog bark',\n",
    "        'Drilling',\n",
    "        'Engine Idling',\n",
    "        'Gun Shot',\n",
    "        'Jackhammer',\n",
    "        'Siren',\n",
    "        'Street Music'])\n",
    "\n",
    "#Plotting the confusion matrix\n",
    "plt.rcParams.update({'font.size': 10})\n",
    "plt.figure(figsize=(20,15))\n",
    "sns.heatmap(cm_df, annot=True)\n",
    "plt.title('Confusion Matrix')\n",
    "plt.ylabel('Actal Values')\n",
    "plt.xlabel('Predicted Values')\n",
    "plt.tight_layout()\n",
    "plt.savefig('confusion_matrix.png')\n",
    "plt.show()"
   ]
  },
  {
   "cell_type": "code",
   "execution_count": 161,
   "id": "2e8d0892",
   "metadata": {},
   "outputs": [
    {
     "data": {
      "image/png": "[encoded data removed]",
      "text/plain": [
       "<Figure size 432x288 with 1 Axes>"
      ]
     },
     "metadata": {
      "needs_background": "light"
     },
     "output_type": "display_data"
    }
   ],
   "source": [
    "metrics = history_relu.history\n",
    "plt.plot(history_relu.epoch, metrics['loss'], metrics['val_loss'])\n",
    "plt.legend(['train_loss', 'test_loss'])\n",
    "plt.xlabel('Epoch')\n",
    "plt.ylabel('Loss')\n",
    "plt.show()"
   ]
  },
  {
   "cell_type": "code",
   "execution_count": 162,
   "id": "fe4adb92",
   "metadata": {},
   "outputs": [
    {
     "data": {
      "image/png": "[encoded data removed]",
      "text/plain": [
       "<Figure size 432x288 with 1 Axes>"
      ]
     },
     "metadata": {
      "needs_background": "light"
     },
     "output_type": "display_data"
    }
   ],
   "source": [
    "plt.plot(history_relu.history['accuracy'], label='train_accuracy')\n",
    "plt.plot(history_relu.history['val_accuracy'], label='test_accuracy')\n",
    "plt.xlabel('Epoch')\n",
    "plt.ylabel('Accuracy')\n",
    "plt.legend()\n",
    "plt.grid(True)"
   ]
  },
  {
   "cell_type": "code",
   "execution_count": 163,
   "id": "e231b353",
   "metadata": {},
   "outputs": [
    {
     "name": "stdout",
     "output_type": "stream",
     "text": [
      "55/55 [==============================] - 0s 7ms/step - loss: 0.5301 - accuracy: 0.8459\n"
     ]
    },
    {
     "data": {
      "text/plain": [
       "[0.5301483869552612, 0.8459335565567017]"
      ]
     },
     "execution_count": 163,
     "metadata": {},
     "output_type": "execute_result"
    }
   ],
   "source": [
    "# Evaluate the performance\n",
    "model.evaluate(X_test , y_test)"
   ]
  },
  {
   "cell_type": "code",
   "execution_count": 164,
   "id": "d71ed1a6",
   "metadata": {
    "scrolled": false
   },
   "outputs": [
    {
     "data": {
      "image/png": "[encoded data removed]",
      "text/plain": [
       "<Figure size 432x288 with 1 Axes>"
      ]
     },
     "metadata": {
      "needs_background": "light"
     },
     "output_type": "display_data"
    },
    {
     "name": "stdout",
     "output_type": "stream",
     "text": [
      "(100, 3, 1)\n"
     ]
    }
   ],
   "source": [
    "import tensorflow as tf\n",
    "# Use the .imshow() function and show the plot\n",
    "plt.imshow(( tf.squeeze(X_test[850]) ))\n",
    "\n",
    "plt.show()\n",
    "# Print the shape of the sample image\n",
    "print(X_test[850].shape)\n"
   ]
  },
  {
   "cell_type": "code",
   "execution_count": 165,
   "id": "952b72b4",
   "metadata": {},
   "outputs": [
    {
     "data": {
      "text/plain": [
       "array([[1.03e-15, 1.00e+00, 6.28e-11, 1.96e-10, 6.01e-12, 4.41e-09,\n",
       "        6.47e-14, 1.79e-14, 5.98e-13, 1.57e-11]], dtype=float32)"
      ]
     },
     "execution_count": 165,
     "metadata": {},
     "output_type": "execute_result"
    }
   ],
   "source": [
    "# Make prediction on the reshaped sample\n",
    "prediction_result = model.predict(X_test[873].reshape(1,100,3,1))\n",
    "\n",
    "# Print the prediction result\n",
    "prediction_result"
   ]
  },
  {
   "cell_type": "code",
   "execution_count": 166,
   "id": "0876b6af",
   "metadata": {},
   "outputs": [],
   "source": [
    "# Find the predicted class\n",
    "predicted_class = prediction_result.argmax()\n",
    "\n",
    "# Find the prediction probability\n",
    "predicted_probability = prediction_result.max()"
   ]
  },
  {
   "cell_type": "code",
   "execution_count": 167,
   "id": "657c023d",
   "metadata": {},
   "outputs": [
    {
     "name": "stdout",
     "output_type": "stream",
     "text": [
      "This image belongs to class 1 with 1.0 probability\n"
     ]
    }
   ],
   "source": [
    "# Print the results\n",
    "print(f\"This image belongs to class {predicted_class} with {predicted_probability} probability\")"
   ]
  },
  {
   "cell_type": "code",
   "execution_count": null,
   "id": "18c91ce5",
   "metadata": {},
   "outputs": [],
   "source": []
  }
 ],
 "metadata": {
  "kernelspec": {
   "display_name": "Python 3 (ipykernel)",
   "language": "python",
   "name": "python3"
  },
  "language_info": {
   "codemirror_mode": {
    "name": "ipython",
    "version": 3
   },
   "file_extension": ".py",
   "mimetype": "text/x-python",
   "name": "python",
   "nbconvert_exporter": "python",
   "pygments_lexer": "ipython3",
   "version": "3.9.7"
  }
 },
 "nbformat": 4,
 "nbformat_minor": 5
}
